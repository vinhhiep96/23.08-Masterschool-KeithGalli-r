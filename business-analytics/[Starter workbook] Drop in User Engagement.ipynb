{
 "cells": [
  {
   "cell_type": "markdown",
   "id": "59000f6d",
   "metadata": {},
   "source": [
    "# Problem statement"
   ]
  },
  {
   "cell_type": "markdown",
   "id": "17bdc544",
   "metadata": {},
   "source": [
    "Sudden user engagement dip in August requires investigation."
   ]
  },
  {
   "cell_type": "markdown",
   "id": "8c7d69cc",
   "metadata": {},
   "source": [
    "# Possible causes of retention drop\n",
    "\n",
    "1. Holiday (change of schedule)\n",
    "2. Change in interface/usability\n",
    "3. A new competitor has popped up\n",
    "4. Change in cost of subscription\n",
    "5. No new features have been added in a long time\n",
    "6. Server update\n",
    "7. Less signups overall \n"
   ]
  },
  {
   "cell_type": "markdown",
   "id": "7ec7d690",
   "metadata": {},
   "source": [
    "# Digging into the data"
   ]
  },
  {
   "cell_type": "markdown",
   "id": "c23e5148",
   "metadata": {},
   "source": [
    "Importing all necessary packages"
   ]
  },
  {
   "cell_type": "code",
   "execution_count": 34,
   "id": "3c64981b",
   "metadata": {},
   "outputs": [],
   "source": [
    "import pandas as pd\n",
    "import sqlite3\n",
    "import matplotlib.pyplot as plt"
   ]
  },
  {
   "cell_type": "markdown",
   "id": "fd0a3693",
   "metadata": {},
   "source": [
    "Connecting to the database"
   ]
  },
  {
   "cell_type": "code",
   "execution_count": 35,
   "id": "48872d6b",
   "metadata": {},
   "outputs": [],
   "source": [
    "conn = sqlite3.connect('case-study.db')\n",
    "c = conn.cursor()"
   ]
  },
  {
   "cell_type": "markdown",
   "id": "4243133a",
   "metadata": {},
   "source": [
    "Exploring users, events, emails data table"
   ]
  },
  {
   "cell_type": "code",
   "execution_count": 36,
   "id": "98094777",
   "metadata": {},
   "outputs": [
    {
     "data": {
      "text/html": [
       "<div>\n",
       "<style scoped>\n",
       "    .dataframe tbody tr th:only-of-type {\n",
       "        vertical-align: middle;\n",
       "    }\n",
       "\n",
       "    .dataframe tbody tr th {\n",
       "        vertical-align: top;\n",
       "    }\n",
       "\n",
       "    .dataframe thead th {\n",
       "        text-align: right;\n",
       "    }\n",
       "</style>\n",
       "<table border=\"1\" class=\"dataframe\">\n",
       "  <thead>\n",
       "    <tr style=\"text-align: right;\">\n",
       "      <th></th>\n",
       "      <th>user_id</th>\n",
       "      <th>created_at</th>\n",
       "      <th>company_id</th>\n",
       "      <th>language</th>\n",
       "      <th>activated_at</th>\n",
       "      <th>state</th>\n",
       "    </tr>\n",
       "  </thead>\n",
       "  <tbody>\n",
       "    <tr>\n",
       "      <th>0</th>\n",
       "      <td>0</td>\n",
       "      <td>2013-01-01 20:59:39</td>\n",
       "      <td>5737</td>\n",
       "      <td>english</td>\n",
       "      <td>2013-01-01 21:01:07</td>\n",
       "      <td>active</td>\n",
       "    </tr>\n",
       "    <tr>\n",
       "      <th>1</th>\n",
       "      <td>1</td>\n",
       "      <td>2013-01-01 13:07:46</td>\n",
       "      <td>28</td>\n",
       "      <td>english</td>\n",
       "      <td>None</td>\n",
       "      <td>pending</td>\n",
       "    </tr>\n",
       "    <tr>\n",
       "      <th>2</th>\n",
       "      <td>2</td>\n",
       "      <td>2013-01-01 10:59:05</td>\n",
       "      <td>51</td>\n",
       "      <td>english</td>\n",
       "      <td>None</td>\n",
       "      <td>pending</td>\n",
       "    </tr>\n",
       "    <tr>\n",
       "      <th>3</th>\n",
       "      <td>3</td>\n",
       "      <td>2013-01-01 18:40:36</td>\n",
       "      <td>2800</td>\n",
       "      <td>german</td>\n",
       "      <td>2013-01-01 18:42:02</td>\n",
       "      <td>active</td>\n",
       "    </tr>\n",
       "    <tr>\n",
       "      <th>4</th>\n",
       "      <td>4</td>\n",
       "      <td>2013-01-01 14:37:51</td>\n",
       "      <td>5110</td>\n",
       "      <td>indian</td>\n",
       "      <td>2013-01-01 14:39:05</td>\n",
       "      <td>active</td>\n",
       "    </tr>\n",
       "  </tbody>\n",
       "</table>\n",
       "</div>"
      ],
      "text/plain": [
       "   user_id           created_at  company_id language         activated_at  \\\n",
       "0        0  2013-01-01 20:59:39        5737  english  2013-01-01 21:01:07   \n",
       "1        1  2013-01-01 13:07:46          28  english                 None   \n",
       "2        2  2013-01-01 10:59:05          51  english                 None   \n",
       "3        3  2013-01-01 18:40:36        2800   german  2013-01-01 18:42:02   \n",
       "4        4  2013-01-01 14:37:51        5110   indian  2013-01-01 14:39:05   \n",
       "\n",
       "     state  \n",
       "0   active  \n",
       "1  pending  \n",
       "2  pending  \n",
       "3   active  \n",
       "4   active  "
      ]
     },
     "execution_count": 36,
     "metadata": {},
     "output_type": "execute_result"
    }
   ],
   "source": [
    "pd.read_sql('''\n",
    "SELECT * FROM users\n",
    "''', conn).head()"
   ]
  },
  {
   "cell_type": "code",
   "execution_count": 37,
   "id": "d8579f9e",
   "metadata": {},
   "outputs": [
    {
     "data": {
      "text/html": [
       "<div>\n",
       "<style scoped>\n",
       "    .dataframe tbody tr th:only-of-type {\n",
       "        vertical-align: middle;\n",
       "    }\n",
       "\n",
       "    .dataframe tbody tr th {\n",
       "        vertical-align: top;\n",
       "    }\n",
       "\n",
       "    .dataframe thead th {\n",
       "        text-align: right;\n",
       "    }\n",
       "</style>\n",
       "<table border=\"1\" class=\"dataframe\">\n",
       "  <thead>\n",
       "    <tr style=\"text-align: right;\">\n",
       "      <th></th>\n",
       "      <th>user_id</th>\n",
       "      <th>occurred_at</th>\n",
       "      <th>event_type</th>\n",
       "      <th>event_name</th>\n",
       "      <th>location</th>\n",
       "      <th>device</th>\n",
       "      <th>user_type</th>\n",
       "    </tr>\n",
       "  </thead>\n",
       "  <tbody>\n",
       "    <tr>\n",
       "      <th>0</th>\n",
       "      <td>10522</td>\n",
       "      <td>2014-05-02 11:02:39</td>\n",
       "      <td>engagement</td>\n",
       "      <td>login</td>\n",
       "      <td>Japan</td>\n",
       "      <td>dell inspiron notebook</td>\n",
       "      <td>3</td>\n",
       "    </tr>\n",
       "    <tr>\n",
       "      <th>1</th>\n",
       "      <td>10522</td>\n",
       "      <td>2014-05-02 11:02:53</td>\n",
       "      <td>engagement</td>\n",
       "      <td>home_page</td>\n",
       "      <td>Japan</td>\n",
       "      <td>dell inspiron notebook</td>\n",
       "      <td>3</td>\n",
       "    </tr>\n",
       "    <tr>\n",
       "      <th>2</th>\n",
       "      <td>10522</td>\n",
       "      <td>2014-05-02 11:03:28</td>\n",
       "      <td>engagement</td>\n",
       "      <td>like_message</td>\n",
       "      <td>Japan</td>\n",
       "      <td>dell inspiron notebook</td>\n",
       "      <td>3</td>\n",
       "    </tr>\n",
       "    <tr>\n",
       "      <th>3</th>\n",
       "      <td>10522</td>\n",
       "      <td>2014-05-02 11:04:09</td>\n",
       "      <td>engagement</td>\n",
       "      <td>view_inbox</td>\n",
       "      <td>Japan</td>\n",
       "      <td>dell inspiron notebook</td>\n",
       "      <td>3</td>\n",
       "    </tr>\n",
       "    <tr>\n",
       "      <th>4</th>\n",
       "      <td>10522</td>\n",
       "      <td>2014-05-02 11:03:16</td>\n",
       "      <td>engagement</td>\n",
       "      <td>search_run</td>\n",
       "      <td>Japan</td>\n",
       "      <td>dell inspiron notebook</td>\n",
       "      <td>3</td>\n",
       "    </tr>\n",
       "    <tr>\n",
       "      <th>...</th>\n",
       "      <td>...</td>\n",
       "      <td>...</td>\n",
       "      <td>...</td>\n",
       "      <td>...</td>\n",
       "      <td>...</td>\n",
       "      <td>...</td>\n",
       "      <td>...</td>\n",
       "    </tr>\n",
       "    <tr>\n",
       "      <th>340827</th>\n",
       "      <td>18815</td>\n",
       "      <td>2014-08-31 13:41:46</td>\n",
       "      <td>engagement</td>\n",
       "      <td>like_message</td>\n",
       "      <td>Ireland</td>\n",
       "      <td>dell inspiron notebook</td>\n",
       "      <td>2</td>\n",
       "    </tr>\n",
       "    <tr>\n",
       "      <th>340828</th>\n",
       "      <td>18815</td>\n",
       "      <td>2014-08-31 13:42:11</td>\n",
       "      <td>engagement</td>\n",
       "      <td>home_page</td>\n",
       "      <td>Ireland</td>\n",
       "      <td>dell inspiron notebook</td>\n",
       "      <td>2</td>\n",
       "    </tr>\n",
       "    <tr>\n",
       "      <th>340829</th>\n",
       "      <td>18815</td>\n",
       "      <td>2014-08-31 13:42:43</td>\n",
       "      <td>engagement</td>\n",
       "      <td>send_message</td>\n",
       "      <td>Ireland</td>\n",
       "      <td>dell inspiron notebook</td>\n",
       "      <td>2</td>\n",
       "    </tr>\n",
       "    <tr>\n",
       "      <th>340830</th>\n",
       "      <td>18815</td>\n",
       "      <td>2014-08-31 13:43:07</td>\n",
       "      <td>engagement</td>\n",
       "      <td>home_page</td>\n",
       "      <td>Ireland</td>\n",
       "      <td>dell inspiron notebook</td>\n",
       "      <td>2</td>\n",
       "    </tr>\n",
       "    <tr>\n",
       "      <th>340831</th>\n",
       "      <td>18815</td>\n",
       "      <td>2014-08-31 13:43:42</td>\n",
       "      <td>engagement</td>\n",
       "      <td>like_message</td>\n",
       "      <td>Ireland</td>\n",
       "      <td>dell inspiron notebook</td>\n",
       "      <td>2</td>\n",
       "    </tr>\n",
       "  </tbody>\n",
       "</table>\n",
       "<p>340832 rows × 7 columns</p>\n",
       "</div>"
      ],
      "text/plain": [
       "        user_id          occurred_at  event_type    event_name location  \\\n",
       "0         10522  2014-05-02 11:02:39  engagement         login    Japan   \n",
       "1         10522  2014-05-02 11:02:53  engagement     home_page    Japan   \n",
       "2         10522  2014-05-02 11:03:28  engagement  like_message    Japan   \n",
       "3         10522  2014-05-02 11:04:09  engagement    view_inbox    Japan   \n",
       "4         10522  2014-05-02 11:03:16  engagement    search_run    Japan   \n",
       "...         ...                  ...         ...           ...      ...   \n",
       "340827    18815  2014-08-31 13:41:46  engagement  like_message  Ireland   \n",
       "340828    18815  2014-08-31 13:42:11  engagement     home_page  Ireland   \n",
       "340829    18815  2014-08-31 13:42:43  engagement  send_message  Ireland   \n",
       "340830    18815  2014-08-31 13:43:07  engagement     home_page  Ireland   \n",
       "340831    18815  2014-08-31 13:43:42  engagement  like_message  Ireland   \n",
       "\n",
       "                        device  user_type  \n",
       "0       dell inspiron notebook          3  \n",
       "1       dell inspiron notebook          3  \n",
       "2       dell inspiron notebook          3  \n",
       "3       dell inspiron notebook          3  \n",
       "4       dell inspiron notebook          3  \n",
       "...                        ...        ...  \n",
       "340827  dell inspiron notebook          2  \n",
       "340828  dell inspiron notebook          2  \n",
       "340829  dell inspiron notebook          2  \n",
       "340830  dell inspiron notebook          2  \n",
       "340831  dell inspiron notebook          2  \n",
       "\n",
       "[340832 rows x 7 columns]"
      ]
     },
     "execution_count": 37,
     "metadata": {},
     "output_type": "execute_result"
    }
   ],
   "source": [
    "events = pd.read_sql('''\n",
    "SELECT * FROM events\n",
    "''', conn)\n",
    "events"
   ]
  },
  {
   "cell_type": "code",
   "execution_count": 38,
   "id": "b175b021",
   "metadata": {},
   "outputs": [
    {
     "data": {
      "text/html": [
       "<div>\n",
       "<style scoped>\n",
       "    .dataframe tbody tr th:only-of-type {\n",
       "        vertical-align: middle;\n",
       "    }\n",
       "\n",
       "    .dataframe tbody tr th {\n",
       "        vertical-align: top;\n",
       "    }\n",
       "\n",
       "    .dataframe thead th {\n",
       "        text-align: right;\n",
       "    }\n",
       "</style>\n",
       "<table border=\"1\" class=\"dataframe\">\n",
       "  <thead>\n",
       "    <tr style=\"text-align: right;\">\n",
       "      <th></th>\n",
       "      <th>event_type</th>\n",
       "    </tr>\n",
       "  </thead>\n",
       "  <tbody>\n",
       "    <tr>\n",
       "      <th>0</th>\n",
       "      <td>engagement</td>\n",
       "    </tr>\n",
       "    <tr>\n",
       "      <th>1</th>\n",
       "      <td>signup_flow</td>\n",
       "    </tr>\n",
       "  </tbody>\n",
       "</table>\n",
       "</div>"
      ],
      "text/plain": [
       "    event_type\n",
       "0   engagement\n",
       "1  signup_flow"
      ]
     },
     "execution_count": 38,
     "metadata": {},
     "output_type": "execute_result"
    }
   ],
   "source": [
    "pd.read_sql('''\n",
    "SELECT Distinct event_type FROM events\n",
    "''', conn)"
   ]
  },
  {
   "cell_type": "code",
   "execution_count": 39,
   "id": "6afcc5fe",
   "metadata": {},
   "outputs": [
    {
     "data": {
      "text/html": [
       "<div>\n",
       "<style scoped>\n",
       "    .dataframe tbody tr th:only-of-type {\n",
       "        vertical-align: middle;\n",
       "    }\n",
       "\n",
       "    .dataframe tbody tr th {\n",
       "        vertical-align: top;\n",
       "    }\n",
       "\n",
       "    .dataframe thead th {\n",
       "        text-align: right;\n",
       "    }\n",
       "</style>\n",
       "<table border=\"1\" class=\"dataframe\">\n",
       "  <thead>\n",
       "    <tr style=\"text-align: right;\">\n",
       "      <th></th>\n",
       "      <th>event_name</th>\n",
       "    </tr>\n",
       "  </thead>\n",
       "  <tbody>\n",
       "    <tr>\n",
       "      <th>0</th>\n",
       "      <td>login</td>\n",
       "    </tr>\n",
       "    <tr>\n",
       "      <th>1</th>\n",
       "      <td>home_page</td>\n",
       "    </tr>\n",
       "    <tr>\n",
       "      <th>2</th>\n",
       "      <td>like_message</td>\n",
       "    </tr>\n",
       "    <tr>\n",
       "      <th>3</th>\n",
       "      <td>view_inbox</td>\n",
       "    </tr>\n",
       "    <tr>\n",
       "      <th>4</th>\n",
       "      <td>search_run</td>\n",
       "    </tr>\n",
       "    <tr>\n",
       "      <th>5</th>\n",
       "      <td>send_message</td>\n",
       "    </tr>\n",
       "    <tr>\n",
       "      <th>6</th>\n",
       "      <td>search_autocomplete</td>\n",
       "    </tr>\n",
       "    <tr>\n",
       "      <th>7</th>\n",
       "      <td>search_click_result_10</td>\n",
       "    </tr>\n",
       "    <tr>\n",
       "      <th>8</th>\n",
       "      <td>create_user</td>\n",
       "    </tr>\n",
       "    <tr>\n",
       "      <th>9</th>\n",
       "      <td>enter_email</td>\n",
       "    </tr>\n",
       "    <tr>\n",
       "      <th>10</th>\n",
       "      <td>enter_info</td>\n",
       "    </tr>\n",
       "    <tr>\n",
       "      <th>11</th>\n",
       "      <td>complete_signup</td>\n",
       "    </tr>\n",
       "    <tr>\n",
       "      <th>12</th>\n",
       "      <td>search_click_result_7</td>\n",
       "    </tr>\n",
       "    <tr>\n",
       "      <th>13</th>\n",
       "      <td>search_click_result_8</td>\n",
       "    </tr>\n",
       "    <tr>\n",
       "      <th>14</th>\n",
       "      <td>search_click_result_1</td>\n",
       "    </tr>\n",
       "    <tr>\n",
       "      <th>15</th>\n",
       "      <td>search_click_result_3</td>\n",
       "    </tr>\n",
       "    <tr>\n",
       "      <th>16</th>\n",
       "      <td>search_click_result_2</td>\n",
       "    </tr>\n",
       "    <tr>\n",
       "      <th>17</th>\n",
       "      <td>search_click_result_5</td>\n",
       "    </tr>\n",
       "    <tr>\n",
       "      <th>18</th>\n",
       "      <td>search_click_result_6</td>\n",
       "    </tr>\n",
       "    <tr>\n",
       "      <th>19</th>\n",
       "      <td>search_click_result_9</td>\n",
       "    </tr>\n",
       "    <tr>\n",
       "      <th>20</th>\n",
       "      <td>search_click_result_4</td>\n",
       "    </tr>\n",
       "  </tbody>\n",
       "</table>\n",
       "</div>"
      ],
      "text/plain": [
       "                event_name\n",
       "0                    login\n",
       "1                home_page\n",
       "2             like_message\n",
       "3               view_inbox\n",
       "4               search_run\n",
       "5             send_message\n",
       "6      search_autocomplete\n",
       "7   search_click_result_10\n",
       "8              create_user\n",
       "9              enter_email\n",
       "10              enter_info\n",
       "11         complete_signup\n",
       "12   search_click_result_7\n",
       "13   search_click_result_8\n",
       "14   search_click_result_1\n",
       "15   search_click_result_3\n",
       "16   search_click_result_2\n",
       "17   search_click_result_5\n",
       "18   search_click_result_6\n",
       "19   search_click_result_9\n",
       "20   search_click_result_4"
      ]
     },
     "execution_count": 39,
     "metadata": {},
     "output_type": "execute_result"
    }
   ],
   "source": [
    "pd.read_sql('''\n",
    "SELECT Distinct event_name FROM events\n",
    "''', conn)"
   ]
  },
  {
   "cell_type": "code",
   "execution_count": 40,
   "id": "70753b4a",
   "metadata": {},
   "outputs": [
    {
     "data": {
      "text/html": [
       "<div>\n",
       "<style scoped>\n",
       "    .dataframe tbody tr th:only-of-type {\n",
       "        vertical-align: middle;\n",
       "    }\n",
       "\n",
       "    .dataframe tbody tr th {\n",
       "        vertical-align: top;\n",
       "    }\n",
       "\n",
       "    .dataframe thead th {\n",
       "        text-align: right;\n",
       "    }\n",
       "</style>\n",
       "<table border=\"1\" class=\"dataframe\">\n",
       "  <thead>\n",
       "    <tr style=\"text-align: right;\">\n",
       "      <th></th>\n",
       "      <th>user_id</th>\n",
       "      <th>occurred_at</th>\n",
       "      <th>event_type</th>\n",
       "      <th>event_name</th>\n",
       "      <th>location</th>\n",
       "      <th>device</th>\n",
       "      <th>user_type</th>\n",
       "    </tr>\n",
       "  </thead>\n",
       "  <tbody>\n",
       "    <tr>\n",
       "      <th>0</th>\n",
       "      <td>11768</td>\n",
       "      <td>2014-05-01 08:03:12</td>\n",
       "      <td>signup_flow</td>\n",
       "      <td>complete_signup</td>\n",
       "      <td>France</td>\n",
       "      <td>macbook pro</td>\n",
       "      <td>3</td>\n",
       "    </tr>\n",
       "    <tr>\n",
       "      <th>1</th>\n",
       "      <td>11770</td>\n",
       "      <td>2014-05-01 06:08:50</td>\n",
       "      <td>signup_flow</td>\n",
       "      <td>complete_signup</td>\n",
       "      <td>Japan</td>\n",
       "      <td>iphone 5s</td>\n",
       "      <td>3</td>\n",
       "    </tr>\n",
       "    <tr>\n",
       "      <th>2</th>\n",
       "      <td>11775</td>\n",
       "      <td>2014-05-01 16:38:06</td>\n",
       "      <td>signup_flow</td>\n",
       "      <td>complete_signup</td>\n",
       "      <td>United Kingdom</td>\n",
       "      <td>lenovo thinkpad</td>\n",
       "      <td>2</td>\n",
       "    </tr>\n",
       "    <tr>\n",
       "      <th>3</th>\n",
       "      <td>11778</td>\n",
       "      <td>2014-05-01 18:49:49</td>\n",
       "      <td>signup_flow</td>\n",
       "      <td>complete_signup</td>\n",
       "      <td>Indonesia</td>\n",
       "      <td>iphone 4s</td>\n",
       "      <td>3</td>\n",
       "    </tr>\n",
       "    <tr>\n",
       "      <th>4</th>\n",
       "      <td>11779</td>\n",
       "      <td>2014-05-01 18:24:54</td>\n",
       "      <td>signup_flow</td>\n",
       "      <td>complete_signup</td>\n",
       "      <td>Germany</td>\n",
       "      <td>samsung galaxy s4</td>\n",
       "      <td>1</td>\n",
       "    </tr>\n",
       "  </tbody>\n",
       "</table>\n",
       "</div>"
      ],
      "text/plain": [
       "   user_id          occurred_at   event_type       event_name        location  \\\n",
       "0    11768  2014-05-01 08:03:12  signup_flow  complete_signup          France   \n",
       "1    11770  2014-05-01 06:08:50  signup_flow  complete_signup           Japan   \n",
       "2    11775  2014-05-01 16:38:06  signup_flow  complete_signup  United Kingdom   \n",
       "3    11778  2014-05-01 18:49:49  signup_flow  complete_signup       Indonesia   \n",
       "4    11779  2014-05-01 18:24:54  signup_flow  complete_signup         Germany   \n",
       "\n",
       "              device  user_type  \n",
       "0        macbook pro          3  \n",
       "1          iphone 5s          3  \n",
       "2    lenovo thinkpad          2  \n",
       "3          iphone 4s          3  \n",
       "4  samsung galaxy s4          1  "
      ]
     },
     "execution_count": 40,
     "metadata": {},
     "output_type": "execute_result"
    }
   ],
   "source": [
    "pd.read_sql('''\n",
    "SELECT * FROM events\n",
    "WHERE event_name='complete_signup'\n",
    "''', conn).head()"
   ]
  },
  {
   "cell_type": "markdown",
   "id": "9bd20558",
   "metadata": {},
   "source": [
    "### Dive into platform signups"
   ]
  },
  {
   "cell_type": "code",
   "execution_count": 41,
   "id": "90359bbb",
   "metadata": {},
   "outputs": [
    {
     "data": {
      "text/html": [
       "<div>\n",
       "<style scoped>\n",
       "    .dataframe tbody tr th:only-of-type {\n",
       "        vertical-align: middle;\n",
       "    }\n",
       "\n",
       "    .dataframe tbody tr th {\n",
       "        vertical-align: top;\n",
       "    }\n",
       "\n",
       "    .dataframe thead th {\n",
       "        text-align: right;\n",
       "    }\n",
       "</style>\n",
       "<table border=\"1\" class=\"dataframe\">\n",
       "  <thead>\n",
       "    <tr style=\"text-align: right;\">\n",
       "      <th></th>\n",
       "      <th>user_id</th>\n",
       "      <th>occurred_at</th>\n",
       "      <th>event_type</th>\n",
       "      <th>event_name</th>\n",
       "      <th>location</th>\n",
       "      <th>device</th>\n",
       "      <th>user_type</th>\n",
       "    </tr>\n",
       "  </thead>\n",
       "  <tbody>\n",
       "    <tr>\n",
       "      <th>0</th>\n",
       "      <td>11768</td>\n",
       "      <td>2014-05-01 08:03:12</td>\n",
       "      <td>signup_flow</td>\n",
       "      <td>complete_signup</td>\n",
       "      <td>France</td>\n",
       "      <td>macbook pro</td>\n",
       "      <td>3</td>\n",
       "    </tr>\n",
       "    <tr>\n",
       "      <th>1</th>\n",
       "      <td>11770</td>\n",
       "      <td>2014-05-01 06:08:50</td>\n",
       "      <td>signup_flow</td>\n",
       "      <td>complete_signup</td>\n",
       "      <td>Japan</td>\n",
       "      <td>iphone 5s</td>\n",
       "      <td>3</td>\n",
       "    </tr>\n",
       "    <tr>\n",
       "      <th>2</th>\n",
       "      <td>11775</td>\n",
       "      <td>2014-05-01 16:38:06</td>\n",
       "      <td>signup_flow</td>\n",
       "      <td>complete_signup</td>\n",
       "      <td>United Kingdom</td>\n",
       "      <td>lenovo thinkpad</td>\n",
       "      <td>2</td>\n",
       "    </tr>\n",
       "    <tr>\n",
       "      <th>3</th>\n",
       "      <td>11778</td>\n",
       "      <td>2014-05-01 18:49:49</td>\n",
       "      <td>signup_flow</td>\n",
       "      <td>complete_signup</td>\n",
       "      <td>Indonesia</td>\n",
       "      <td>iphone 4s</td>\n",
       "      <td>3</td>\n",
       "    </tr>\n",
       "    <tr>\n",
       "      <th>4</th>\n",
       "      <td>11779</td>\n",
       "      <td>2014-05-01 18:24:54</td>\n",
       "      <td>signup_flow</td>\n",
       "      <td>complete_signup</td>\n",
       "      <td>Germany</td>\n",
       "      <td>samsung galaxy s4</td>\n",
       "      <td>1</td>\n",
       "    </tr>\n",
       "  </tbody>\n",
       "</table>\n",
       "</div>"
      ],
      "text/plain": [
       "   user_id          occurred_at   event_type       event_name        location  \\\n",
       "0    11768  2014-05-01 08:03:12  signup_flow  complete_signup          France   \n",
       "1    11770  2014-05-01 06:08:50  signup_flow  complete_signup           Japan   \n",
       "2    11775  2014-05-01 16:38:06  signup_flow  complete_signup  United Kingdom   \n",
       "3    11778  2014-05-01 18:49:49  signup_flow  complete_signup       Indonesia   \n",
       "4    11779  2014-05-01 18:24:54  signup_flow  complete_signup         Germany   \n",
       "\n",
       "              device  user_type  \n",
       "0        macbook pro          3  \n",
       "1          iphone 5s          3  \n",
       "2    lenovo thinkpad          2  \n",
       "3          iphone 4s          3  \n",
       "4  samsung galaxy s4          1  "
      ]
     },
     "execution_count": 41,
     "metadata": {},
     "output_type": "execute_result"
    }
   ],
   "source": [
    "pd.read_sql('''\n",
    "SELECT * FROM events\n",
    "WHERE event_name='complete_signup'\n",
    "''', conn).head()"
   ]
  },
  {
   "cell_type": "code",
   "execution_count": 42,
   "id": "b8a0b31f",
   "metadata": {},
   "outputs": [
    {
     "data": {
      "text/html": [
       "<div>\n",
       "<style scoped>\n",
       "    .dataframe tbody tr th:only-of-type {\n",
       "        vertical-align: middle;\n",
       "    }\n",
       "\n",
       "    .dataframe tbody tr th {\n",
       "        vertical-align: top;\n",
       "    }\n",
       "\n",
       "    .dataframe thead th {\n",
       "        text-align: right;\n",
       "    }\n",
       "</style>\n",
       "<table border=\"1\" class=\"dataframe\">\n",
       "  <thead>\n",
       "    <tr style=\"text-align: right;\">\n",
       "      <th></th>\n",
       "      <th>user_id</th>\n",
       "      <th>occurred_at</th>\n",
       "      <th>event_type</th>\n",
       "      <th>event_name</th>\n",
       "      <th>location</th>\n",
       "      <th>device</th>\n",
       "      <th>user_type</th>\n",
       "    </tr>\n",
       "  </thead>\n",
       "  <tbody>\n",
       "    <tr>\n",
       "      <th>0</th>\n",
       "      <td>10522</td>\n",
       "      <td>2014-05-02 11:02:39</td>\n",
       "      <td>engagement</td>\n",
       "      <td>login</td>\n",
       "      <td>Japan</td>\n",
       "      <td>dell inspiron notebook</td>\n",
       "      <td>3</td>\n",
       "    </tr>\n",
       "    <tr>\n",
       "      <th>1</th>\n",
       "      <td>10522</td>\n",
       "      <td>2014-05-02 11:02:53</td>\n",
       "      <td>engagement</td>\n",
       "      <td>home_page</td>\n",
       "      <td>Japan</td>\n",
       "      <td>dell inspiron notebook</td>\n",
       "      <td>3</td>\n",
       "    </tr>\n",
       "    <tr>\n",
       "      <th>2</th>\n",
       "      <td>10522</td>\n",
       "      <td>2014-05-02 11:03:28</td>\n",
       "      <td>engagement</td>\n",
       "      <td>like_message</td>\n",
       "      <td>Japan</td>\n",
       "      <td>dell inspiron notebook</td>\n",
       "      <td>3</td>\n",
       "    </tr>\n",
       "    <tr>\n",
       "      <th>3</th>\n",
       "      <td>10522</td>\n",
       "      <td>2014-05-02 11:04:09</td>\n",
       "      <td>engagement</td>\n",
       "      <td>view_inbox</td>\n",
       "      <td>Japan</td>\n",
       "      <td>dell inspiron notebook</td>\n",
       "      <td>3</td>\n",
       "    </tr>\n",
       "    <tr>\n",
       "      <th>4</th>\n",
       "      <td>10522</td>\n",
       "      <td>2014-05-02 11:03:16</td>\n",
       "      <td>engagement</td>\n",
       "      <td>search_run</td>\n",
       "      <td>Japan</td>\n",
       "      <td>dell inspiron notebook</td>\n",
       "      <td>3</td>\n",
       "    </tr>\n",
       "    <tr>\n",
       "      <th>...</th>\n",
       "      <td>...</td>\n",
       "      <td>...</td>\n",
       "      <td>...</td>\n",
       "      <td>...</td>\n",
       "      <td>...</td>\n",
       "      <td>...</td>\n",
       "      <td>...</td>\n",
       "    </tr>\n",
       "    <tr>\n",
       "      <th>340827</th>\n",
       "      <td>18815</td>\n",
       "      <td>2014-08-31 13:41:46</td>\n",
       "      <td>engagement</td>\n",
       "      <td>like_message</td>\n",
       "      <td>Ireland</td>\n",
       "      <td>dell inspiron notebook</td>\n",
       "      <td>2</td>\n",
       "    </tr>\n",
       "    <tr>\n",
       "      <th>340828</th>\n",
       "      <td>18815</td>\n",
       "      <td>2014-08-31 13:42:11</td>\n",
       "      <td>engagement</td>\n",
       "      <td>home_page</td>\n",
       "      <td>Ireland</td>\n",
       "      <td>dell inspiron notebook</td>\n",
       "      <td>2</td>\n",
       "    </tr>\n",
       "    <tr>\n",
       "      <th>340829</th>\n",
       "      <td>18815</td>\n",
       "      <td>2014-08-31 13:42:43</td>\n",
       "      <td>engagement</td>\n",
       "      <td>send_message</td>\n",
       "      <td>Ireland</td>\n",
       "      <td>dell inspiron notebook</td>\n",
       "      <td>2</td>\n",
       "    </tr>\n",
       "    <tr>\n",
       "      <th>340830</th>\n",
       "      <td>18815</td>\n",
       "      <td>2014-08-31 13:43:07</td>\n",
       "      <td>engagement</td>\n",
       "      <td>home_page</td>\n",
       "      <td>Ireland</td>\n",
       "      <td>dell inspiron notebook</td>\n",
       "      <td>2</td>\n",
       "    </tr>\n",
       "    <tr>\n",
       "      <th>340831</th>\n",
       "      <td>18815</td>\n",
       "      <td>2014-08-31 13:43:42</td>\n",
       "      <td>engagement</td>\n",
       "      <td>like_message</td>\n",
       "      <td>Ireland</td>\n",
       "      <td>dell inspiron notebook</td>\n",
       "      <td>2</td>\n",
       "    </tr>\n",
       "  </tbody>\n",
       "</table>\n",
       "<p>340832 rows × 7 columns</p>\n",
       "</div>"
      ],
      "text/plain": [
       "        user_id          occurred_at  event_type    event_name location  \\\n",
       "0         10522  2014-05-02 11:02:39  engagement         login    Japan   \n",
       "1         10522  2014-05-02 11:02:53  engagement     home_page    Japan   \n",
       "2         10522  2014-05-02 11:03:28  engagement  like_message    Japan   \n",
       "3         10522  2014-05-02 11:04:09  engagement    view_inbox    Japan   \n",
       "4         10522  2014-05-02 11:03:16  engagement    search_run    Japan   \n",
       "...         ...                  ...         ...           ...      ...   \n",
       "340827    18815  2014-08-31 13:41:46  engagement  like_message  Ireland   \n",
       "340828    18815  2014-08-31 13:42:11  engagement     home_page  Ireland   \n",
       "340829    18815  2014-08-31 13:42:43  engagement  send_message  Ireland   \n",
       "340830    18815  2014-08-31 13:43:07  engagement     home_page  Ireland   \n",
       "340831    18815  2014-08-31 13:43:42  engagement  like_message  Ireland   \n",
       "\n",
       "                        device  user_type  \n",
       "0       dell inspiron notebook          3  \n",
       "1       dell inspiron notebook          3  \n",
       "2       dell inspiron notebook          3  \n",
       "3       dell inspiron notebook          3  \n",
       "4       dell inspiron notebook          3  \n",
       "...                        ...        ...  \n",
       "340827  dell inspiron notebook          2  \n",
       "340828  dell inspiron notebook          2  \n",
       "340829  dell inspiron notebook          2  \n",
       "340830  dell inspiron notebook          2  \n",
       "340831  dell inspiron notebook          2  \n",
       "\n",
       "[340832 rows x 7 columns]"
      ]
     },
     "execution_count": 42,
     "metadata": {},
     "output_type": "execute_result"
    }
   ],
   "source": [
    "events"
   ]
  },
  {
   "cell_type": "code",
   "execution_count": 43,
   "id": "7762d261",
   "metadata": {},
   "outputs": [],
   "source": [
    "signups = pd.read_sql('''\n",
    "SELECT strftime('%d', occurred_at) as day,\n",
    "       strftime('%m', occurred_at) as month,\n",
    "       strftime('%Y', occurred_at) as year,\n",
    "       strftime('%W-%Y', occurred_at) as date,\n",
    "       COUNT(distinct user_id) as count\n",
    "from events\n",
    "WHERE event_name='complete_signup'\n",
    "group by date\n",
    "''', conn)"
   ]
  },
  {
   "cell_type": "code",
   "execution_count": 44,
   "id": "78a446f1",
   "metadata": {},
   "outputs": [],
   "source": [
    "engagements = pd.read_sql('''\n",
    "SELECT strftime('%d', occurred_at) as day,\n",
    "       strftime('%m', occurred_at) as month,\n",
    "       strftime('%Y', occurred_at) as year,\n",
    "       strftime('%W-%Y', occurred_at) as date,\n",
    "       count(distinct user_id) as count\n",
    "from events\n",
    "WHERE event_type='engagement'\n",
    "group by date\n",
    "''', conn)"
   ]
  },
  {
   "cell_type": "code",
   "execution_count": 45,
   "id": "383d2fb6",
   "metadata": {},
   "outputs": [
    {
     "data": {
      "text/html": [
       "<div>\n",
       "<style scoped>\n",
       "    .dataframe tbody tr th:only-of-type {\n",
       "        vertical-align: middle;\n",
       "    }\n",
       "\n",
       "    .dataframe tbody tr th {\n",
       "        vertical-align: top;\n",
       "    }\n",
       "\n",
       "    .dataframe thead th {\n",
       "        text-align: right;\n",
       "    }\n",
       "</style>\n",
       "<table border=\"1\" class=\"dataframe\">\n",
       "  <thead>\n",
       "    <tr style=\"text-align: right;\">\n",
       "      <th></th>\n",
       "      <th>day</th>\n",
       "      <th>month</th>\n",
       "      <th>year</th>\n",
       "      <th>date</th>\n",
       "      <th>count</th>\n",
       "    </tr>\n",
       "  </thead>\n",
       "  <tbody>\n",
       "    <tr>\n",
       "      <th>0</th>\n",
       "      <td>02</td>\n",
       "      <td>05</td>\n",
       "      <td>2014</td>\n",
       "      <td>17-2014</td>\n",
       "      <td>701</td>\n",
       "    </tr>\n",
       "    <tr>\n",
       "      <th>1</th>\n",
       "      <td>09</td>\n",
       "      <td>05</td>\n",
       "      <td>2014</td>\n",
       "      <td>18-2014</td>\n",
       "      <td>1054</td>\n",
       "    </tr>\n",
       "    <tr>\n",
       "      <th>2</th>\n",
       "      <td>15</td>\n",
       "      <td>05</td>\n",
       "      <td>2014</td>\n",
       "      <td>19-2014</td>\n",
       "      <td>1094</td>\n",
       "    </tr>\n",
       "    <tr>\n",
       "      <th>3</th>\n",
       "      <td>20</td>\n",
       "      <td>05</td>\n",
       "      <td>2014</td>\n",
       "      <td>20-2014</td>\n",
       "      <td>1147</td>\n",
       "    </tr>\n",
       "    <tr>\n",
       "      <th>4</th>\n",
       "      <td>28</td>\n",
       "      <td>05</td>\n",
       "      <td>2014</td>\n",
       "      <td>21-2014</td>\n",
       "      <td>1113</td>\n",
       "    </tr>\n",
       "  </tbody>\n",
       "</table>\n",
       "</div>"
      ],
      "text/plain": [
       "  day month  year     date  count\n",
       "0  02    05  2014  17-2014    701\n",
       "1  09    05  2014  18-2014   1054\n",
       "2  15    05  2014  19-2014   1094\n",
       "3  20    05  2014  20-2014   1147\n",
       "4  28    05  2014  21-2014   1113"
      ]
     },
     "execution_count": 45,
     "metadata": {},
     "output_type": "execute_result"
    }
   ],
   "source": [
    "engagements.head()"
   ]
  },
  {
   "cell_type": "code",
   "execution_count": 46,
   "id": "e314dddd",
   "metadata": {},
   "outputs": [
    {
     "data": {
      "image/png": "[encoded data removed]",
      "text/plain": [
       "<Figure size 640x480 with 1 Axes>"
      ]
     },
     "metadata": {},
     "output_type": "display_data"
    }
   ],
   "source": [
    "plt.figure()\n",
    "plt.plot(signups['date'],signups['count'],label='signups')\n",
    "plt.plot(engagements['date'], engagements['count'],label='engagements')\n",
    "plt.xlabel(\"Date\")\n",
    "plt.ylabel(\"Count\")\n",
    "plt.xticks(signups['date'][::2], rotation=-45)\n",
    "plt.legend()\n",
    "plt.title(\"Engagement vs Signups\")\n",
    "plt.show()\n"
   ]
  },
  {
   "cell_type": "code",
   "execution_count": 47,
   "id": "4abe28ff",
   "metadata": {},
   "outputs": [],
   "source": [
    "signups['pct_change'] = signups['count'].pct_change()\n",
    "engagements['pct_change'] = engagements['count'].pct_change()"
   ]
  },
  {
   "cell_type": "code",
   "execution_count": 48,
   "id": "1d68c072",
   "metadata": {},
   "outputs": [
    {
     "data": {
      "image/png": "[encoded data removed]",
      "text/plain": [
       "<Figure size 640x480 with 1 Axes>"
      ]
     },
     "metadata": {},
     "output_type": "display_data"
    }
   ],
   "source": [
    "plt.figure()\n",
    "plt.plot(signups['date'],signups['pct_change'],label='signups')\n",
    "plt.plot(engagements['date'], engagements['pct_change'],label='engagements')\n",
    "plt.xlabel(\"Date\")\n",
    "plt.ylabel(\"Count\")\n",
    "plt.xticks(signups['date'][::2], rotation=-45)\n",
    "plt.legend()\n",
    "plt.title(\"Engagement vs Signups\")\n",
    "plt.show()\n"
   ]
  },
  {
   "cell_type": "markdown",
   "id": "602bbc8d",
   "metadata": {},
   "source": [
    "### Investigate if retention drop caused by change to specific devices"
   ]
  },
  {
   "cell_type": "code",
   "execution_count": 49,
   "id": "01641823",
   "metadata": {},
   "outputs": [
    {
     "data": {
      "text/plain": [
       "array(['dell inspiron notebook', 'iphone 5', 'iphone 4s',\n",
       "       'windows surface', 'macbook air', 'iphone 5s', 'macbook pro',\n",
       "       'kindle fire', 'ipad mini', 'nexus 7', 'nexus 5',\n",
       "       'samsung galaxy s4', 'lenovo thinkpad', 'samsumg galaxy tablet',\n",
       "       'acer aspire notebook', 'asus chromebook', 'htc one',\n",
       "       'nokia lumia 635', 'samsung galaxy note', 'acer aspire desktop',\n",
       "       'mac mini', 'hp pavilion desktop', 'dell inspiron desktop',\n",
       "       'ipad air', 'amazon fire phone', 'nexus 10'], dtype=object)"
      ]
     },
     "execution_count": 49,
     "metadata": {},
     "output_type": "execute_result"
    }
   ],
   "source": [
    "events['device'].unique()"
   ]
  },
  {
   "cell_type": "code",
   "execution_count": 50,
   "id": "0f0dd64b",
   "metadata": {},
   "outputs": [],
   "source": [
    "device_dict = {'dell inspiron notebook': 'computer', \n",
    "               'iphone 5': 'mobile', \n",
    "               'iphone 4s': 'mobile',\n",
    "               'windows surface': 'tablet',\n",
    "               'macbook air': 'computer',\n",
    "               'iphone 5s': 'mobile',\n",
    "               'macbook pro': 'computer',\n",
    "               'kindle fire': 'tablet',\n",
    "               'ipad mini': 'tablet',\n",
    "               'nexus 7': 'tablet',\n",
    "               'nexus 5': 'tablet',\n",
    "               'samsung galaxy s4': 'mobile',\n",
    "               'lenovo thinkpad': 'computer',\n",
    "               'samsumg galaxy tablet': 'tablet',\n",
    "               'acer aspire notebook': 'computer',\n",
    "               'asus chromebook': 'computer',\n",
    "               'htc one': 'mobile',\n",
    "               'nokia lumia 635': 'mobile',\n",
    "               'samsung galaxy note': 'mobile',\n",
    "               'acer aspire desktop': 'computer',\n",
    "               'mac mini': 'computer',\n",
    "               'hp pavilion desktop': 'computer',\n",
    "               'dell inspiron desktop': 'computer',\n",
    "               'ipad air': 'tablet',\n",
    "               'amazon fire phone': 'mobile', \n",
    "               'nexus 10': 'tablet'}"
   ]
  },
  {
   "cell_type": "code",
   "execution_count": 51,
   "id": "de499832",
   "metadata": {},
   "outputs": [
    {
     "data": {
      "text/html": [
       "<div>\n",
       "<style scoped>\n",
       "    .dataframe tbody tr th:only-of-type {\n",
       "        vertical-align: middle;\n",
       "    }\n",
       "\n",
       "    .dataframe tbody tr th {\n",
       "        vertical-align: top;\n",
       "    }\n",
       "\n",
       "    .dataframe thead th {\n",
       "        text-align: right;\n",
       "    }\n",
       "</style>\n",
       "<table border=\"1\" class=\"dataframe\">\n",
       "  <thead>\n",
       "    <tr style=\"text-align: right;\">\n",
       "      <th></th>\n",
       "      <th>user_id</th>\n",
       "      <th>occurred_at</th>\n",
       "      <th>event_type</th>\n",
       "      <th>event_name</th>\n",
       "      <th>location</th>\n",
       "      <th>device</th>\n",
       "      <th>user_type</th>\n",
       "      <th>device_type_1</th>\n",
       "    </tr>\n",
       "  </thead>\n",
       "  <tbody>\n",
       "    <tr>\n",
       "      <th>0</th>\n",
       "      <td>10522</td>\n",
       "      <td>2014-05-02 11:02:39</td>\n",
       "      <td>engagement</td>\n",
       "      <td>login</td>\n",
       "      <td>Japan</td>\n",
       "      <td>dell inspiron notebook</td>\n",
       "      <td>3</td>\n",
       "      <td>computer</td>\n",
       "    </tr>\n",
       "    <tr>\n",
       "      <th>1</th>\n",
       "      <td>10522</td>\n",
       "      <td>2014-05-02 11:02:53</td>\n",
       "      <td>engagement</td>\n",
       "      <td>home_page</td>\n",
       "      <td>Japan</td>\n",
       "      <td>dell inspiron notebook</td>\n",
       "      <td>3</td>\n",
       "      <td>computer</td>\n",
       "    </tr>\n",
       "    <tr>\n",
       "      <th>2</th>\n",
       "      <td>10522</td>\n",
       "      <td>2014-05-02 11:03:28</td>\n",
       "      <td>engagement</td>\n",
       "      <td>like_message</td>\n",
       "      <td>Japan</td>\n",
       "      <td>dell inspiron notebook</td>\n",
       "      <td>3</td>\n",
       "      <td>computer</td>\n",
       "    </tr>\n",
       "    <tr>\n",
       "      <th>3</th>\n",
       "      <td>10522</td>\n",
       "      <td>2014-05-02 11:04:09</td>\n",
       "      <td>engagement</td>\n",
       "      <td>view_inbox</td>\n",
       "      <td>Japan</td>\n",
       "      <td>dell inspiron notebook</td>\n",
       "      <td>3</td>\n",
       "      <td>computer</td>\n",
       "    </tr>\n",
       "    <tr>\n",
       "      <th>4</th>\n",
       "      <td>10522</td>\n",
       "      <td>2014-05-02 11:03:16</td>\n",
       "      <td>engagement</td>\n",
       "      <td>search_run</td>\n",
       "      <td>Japan</td>\n",
       "      <td>dell inspiron notebook</td>\n",
       "      <td>3</td>\n",
       "      <td>computer</td>\n",
       "    </tr>\n",
       "    <tr>\n",
       "      <th>...</th>\n",
       "      <td>...</td>\n",
       "      <td>...</td>\n",
       "      <td>...</td>\n",
       "      <td>...</td>\n",
       "      <td>...</td>\n",
       "      <td>...</td>\n",
       "      <td>...</td>\n",
       "      <td>...</td>\n",
       "    </tr>\n",
       "    <tr>\n",
       "      <th>340827</th>\n",
       "      <td>18815</td>\n",
       "      <td>2014-08-31 13:41:46</td>\n",
       "      <td>engagement</td>\n",
       "      <td>like_message</td>\n",
       "      <td>Ireland</td>\n",
       "      <td>dell inspiron notebook</td>\n",
       "      <td>2</td>\n",
       "      <td>computer</td>\n",
       "    </tr>\n",
       "    <tr>\n",
       "      <th>340828</th>\n",
       "      <td>18815</td>\n",
       "      <td>2014-08-31 13:42:11</td>\n",
       "      <td>engagement</td>\n",
       "      <td>home_page</td>\n",
       "      <td>Ireland</td>\n",
       "      <td>dell inspiron notebook</td>\n",
       "      <td>2</td>\n",
       "      <td>computer</td>\n",
       "    </tr>\n",
       "    <tr>\n",
       "      <th>340829</th>\n",
       "      <td>18815</td>\n",
       "      <td>2014-08-31 13:42:43</td>\n",
       "      <td>engagement</td>\n",
       "      <td>send_message</td>\n",
       "      <td>Ireland</td>\n",
       "      <td>dell inspiron notebook</td>\n",
       "      <td>2</td>\n",
       "      <td>computer</td>\n",
       "    </tr>\n",
       "    <tr>\n",
       "      <th>340830</th>\n",
       "      <td>18815</td>\n",
       "      <td>2014-08-31 13:43:07</td>\n",
       "      <td>engagement</td>\n",
       "      <td>home_page</td>\n",
       "      <td>Ireland</td>\n",
       "      <td>dell inspiron notebook</td>\n",
       "      <td>2</td>\n",
       "      <td>computer</td>\n",
       "    </tr>\n",
       "    <tr>\n",
       "      <th>340831</th>\n",
       "      <td>18815</td>\n",
       "      <td>2014-08-31 13:43:42</td>\n",
       "      <td>engagement</td>\n",
       "      <td>like_message</td>\n",
       "      <td>Ireland</td>\n",
       "      <td>dell inspiron notebook</td>\n",
       "      <td>2</td>\n",
       "      <td>computer</td>\n",
       "    </tr>\n",
       "  </tbody>\n",
       "</table>\n",
       "<p>340832 rows × 8 columns</p>\n",
       "</div>"
      ],
      "text/plain": [
       "        user_id          occurred_at  event_type    event_name location  \\\n",
       "0         10522  2014-05-02 11:02:39  engagement         login    Japan   \n",
       "1         10522  2014-05-02 11:02:53  engagement     home_page    Japan   \n",
       "2         10522  2014-05-02 11:03:28  engagement  like_message    Japan   \n",
       "3         10522  2014-05-02 11:04:09  engagement    view_inbox    Japan   \n",
       "4         10522  2014-05-02 11:03:16  engagement    search_run    Japan   \n",
       "...         ...                  ...         ...           ...      ...   \n",
       "340827    18815  2014-08-31 13:41:46  engagement  like_message  Ireland   \n",
       "340828    18815  2014-08-31 13:42:11  engagement     home_page  Ireland   \n",
       "340829    18815  2014-08-31 13:42:43  engagement  send_message  Ireland   \n",
       "340830    18815  2014-08-31 13:43:07  engagement     home_page  Ireland   \n",
       "340831    18815  2014-08-31 13:43:42  engagement  like_message  Ireland   \n",
       "\n",
       "                        device  user_type device_type_1  \n",
       "0       dell inspiron notebook          3      computer  \n",
       "1       dell inspiron notebook          3      computer  \n",
       "2       dell inspiron notebook          3      computer  \n",
       "3       dell inspiron notebook          3      computer  \n",
       "4       dell inspiron notebook          3      computer  \n",
       "...                        ...        ...           ...  \n",
       "340827  dell inspiron notebook          2      computer  \n",
       "340828  dell inspiron notebook          2      computer  \n",
       "340829  dell inspiron notebook          2      computer  \n",
       "340830  dell inspiron notebook          2      computer  \n",
       "340831  dell inspiron notebook          2      computer  \n",
       "\n",
       "[340832 rows x 8 columns]"
      ]
     },
     "execution_count": 51,
     "metadata": {},
     "output_type": "execute_result"
    }
   ],
   "source": [
    "events['device_type_1']=events['device'].map(device_dict)\n",
    "events"
   ]
  },
  {
   "cell_type": "code",
   "execution_count": 52,
   "id": "6cc393c2",
   "metadata": {},
   "outputs": [
    {
     "data": {
      "text/plain": [
       "'iPhone 14 Pro'"
      ]
     },
     "execution_count": 52,
     "metadata": {},
     "output_type": "execute_result"
    }
   ],
   "source": [
    "'iPhone 14 Pro'"
   ]
  },
  {
   "cell_type": "code",
   "execution_count": 53,
   "id": "9cb0eda5",
   "metadata": {},
   "outputs": [],
   "source": [
    "events['device_type'] = events['device'].map(device_dict)"
   ]
  },
  {
   "cell_type": "code",
   "execution_count": 54,
   "id": "7d670a08",
   "metadata": {},
   "outputs": [],
   "source": [
    "events['occurred_at'] = pd.to_datetime(events['occurred_at'])"
   ]
  },
  {
   "cell_type": "code",
   "execution_count": 79,
   "id": "b3d16fa9",
   "metadata": {},
   "outputs": [
    {
     "data": {
      "text/plain": [
       "DatetimeIndex(['2023-01-02', '2023-01-03', '2023-01-04'], dtype='datetime64[ns]', freq='D')"
      ]
     },
     "execution_count": 79,
     "metadata": {},
     "output_type": "execute_result"
    }
   ],
   "source": [
    "a = pd.date_range(pd.Timestamp(2023,1,2),periods=3,freq='d')\n",
    "b = a.strftime('%d')\n",
    "b\n",
    "a\n",
    "# events['occurred_at']"
   ]
  },
  {
   "cell_type": "code",
   "execution_count": 75,
   "id": "b5f1e98a",
   "metadata": {},
   "outputs": [
    {
     "data": {
      "text/html": [
       "<div>\n",
       "<style scoped>\n",
       "    .dataframe tbody tr th:only-of-type {\n",
       "        vertical-align: middle;\n",
       "    }\n",
       "\n",
       "    .dataframe tbody tr th {\n",
       "        vertical-align: top;\n",
       "    }\n",
       "\n",
       "    .dataframe thead th {\n",
       "        text-align: right;\n",
       "    }\n",
       "</style>\n",
       "<table border=\"1\" class=\"dataframe\">\n",
       "  <thead>\n",
       "    <tr style=\"text-align: right;\">\n",
       "      <th></th>\n",
       "      <th>user_id</th>\n",
       "      <th>occurred_at</th>\n",
       "      <th>event_type</th>\n",
       "      <th>event_name</th>\n",
       "      <th>location</th>\n",
       "      <th>device</th>\n",
       "      <th>user_type</th>\n",
       "      <th>device_type_1</th>\n",
       "      <th>device_type</th>\n",
       "      <th>week</th>\n",
       "      <th>count</th>\n",
       "    </tr>\n",
       "  </thead>\n",
       "  <tbody>\n",
       "    <tr>\n",
       "      <th>0</th>\n",
       "      <td>10522</td>\n",
       "      <td>2014-05-02 11:02:39</td>\n",
       "      <td>engagement</td>\n",
       "      <td>login</td>\n",
       "      <td>Japan</td>\n",
       "      <td>dell inspiron notebook</td>\n",
       "      <td>3</td>\n",
       "      <td>computer</td>\n",
       "      <td>computer</td>\n",
       "      <td>5</td>\n",
       "      <td>1</td>\n",
       "    </tr>\n",
       "    <tr>\n",
       "      <th>1</th>\n",
       "      <td>10522</td>\n",
       "      <td>2014-05-02 11:02:53</td>\n",
       "      <td>engagement</td>\n",
       "      <td>home_page</td>\n",
       "      <td>Japan</td>\n",
       "      <td>dell inspiron notebook</td>\n",
       "      <td>3</td>\n",
       "      <td>computer</td>\n",
       "      <td>computer</td>\n",
       "      <td>5</td>\n",
       "      <td>1</td>\n",
       "    </tr>\n",
       "    <tr>\n",
       "      <th>2</th>\n",
       "      <td>10522</td>\n",
       "      <td>2014-05-02 11:03:28</td>\n",
       "      <td>engagement</td>\n",
       "      <td>like_message</td>\n",
       "      <td>Japan</td>\n",
       "      <td>dell inspiron notebook</td>\n",
       "      <td>3</td>\n",
       "      <td>computer</td>\n",
       "      <td>computer</td>\n",
       "      <td>5</td>\n",
       "      <td>1</td>\n",
       "    </tr>\n",
       "    <tr>\n",
       "      <th>3</th>\n",
       "      <td>10522</td>\n",
       "      <td>2014-05-02 11:04:09</td>\n",
       "      <td>engagement</td>\n",
       "      <td>view_inbox</td>\n",
       "      <td>Japan</td>\n",
       "      <td>dell inspiron notebook</td>\n",
       "      <td>3</td>\n",
       "      <td>computer</td>\n",
       "      <td>computer</td>\n",
       "      <td>5</td>\n",
       "      <td>1</td>\n",
       "    </tr>\n",
       "    <tr>\n",
       "      <th>4</th>\n",
       "      <td>10522</td>\n",
       "      <td>2014-05-02 11:03:16</td>\n",
       "      <td>engagement</td>\n",
       "      <td>search_run</td>\n",
       "      <td>Japan</td>\n",
       "      <td>dell inspiron notebook</td>\n",
       "      <td>3</td>\n",
       "      <td>computer</td>\n",
       "      <td>computer</td>\n",
       "      <td>5</td>\n",
       "      <td>1</td>\n",
       "    </tr>\n",
       "    <tr>\n",
       "      <th>...</th>\n",
       "      <td>...</td>\n",
       "      <td>...</td>\n",
       "      <td>...</td>\n",
       "      <td>...</td>\n",
       "      <td>...</td>\n",
       "      <td>...</td>\n",
       "      <td>...</td>\n",
       "      <td>...</td>\n",
       "      <td>...</td>\n",
       "      <td>...</td>\n",
       "      <td>...</td>\n",
       "    </tr>\n",
       "    <tr>\n",
       "      <th>340827</th>\n",
       "      <td>18815</td>\n",
       "      <td>2014-08-31 13:41:46</td>\n",
       "      <td>engagement</td>\n",
       "      <td>like_message</td>\n",
       "      <td>Ireland</td>\n",
       "      <td>dell inspiron notebook</td>\n",
       "      <td>2</td>\n",
       "      <td>computer</td>\n",
       "      <td>computer</td>\n",
       "      <td>0</td>\n",
       "      <td>1</td>\n",
       "    </tr>\n",
       "    <tr>\n",
       "      <th>340828</th>\n",
       "      <td>18815</td>\n",
       "      <td>2014-08-31 13:42:11</td>\n",
       "      <td>engagement</td>\n",
       "      <td>home_page</td>\n",
       "      <td>Ireland</td>\n",
       "      <td>dell inspiron notebook</td>\n",
       "      <td>2</td>\n",
       "      <td>computer</td>\n",
       "      <td>computer</td>\n",
       "      <td>0</td>\n",
       "      <td>1</td>\n",
       "    </tr>\n",
       "    <tr>\n",
       "      <th>340829</th>\n",
       "      <td>18815</td>\n",
       "      <td>2014-08-31 13:42:43</td>\n",
       "      <td>engagement</td>\n",
       "      <td>send_message</td>\n",
       "      <td>Ireland</td>\n",
       "      <td>dell inspiron notebook</td>\n",
       "      <td>2</td>\n",
       "      <td>computer</td>\n",
       "      <td>computer</td>\n",
       "      <td>0</td>\n",
       "      <td>1</td>\n",
       "    </tr>\n",
       "    <tr>\n",
       "      <th>340830</th>\n",
       "      <td>18815</td>\n",
       "      <td>2014-08-31 13:43:07</td>\n",
       "      <td>engagement</td>\n",
       "      <td>home_page</td>\n",
       "      <td>Ireland</td>\n",
       "      <td>dell inspiron notebook</td>\n",
       "      <td>2</td>\n",
       "      <td>computer</td>\n",
       "      <td>computer</td>\n",
       "      <td>0</td>\n",
       "      <td>1</td>\n",
       "    </tr>\n",
       "    <tr>\n",
       "      <th>340831</th>\n",
       "      <td>18815</td>\n",
       "      <td>2014-08-31 13:43:42</td>\n",
       "      <td>engagement</td>\n",
       "      <td>like_message</td>\n",
       "      <td>Ireland</td>\n",
       "      <td>dell inspiron notebook</td>\n",
       "      <td>2</td>\n",
       "      <td>computer</td>\n",
       "      <td>computer</td>\n",
       "      <td>0</td>\n",
       "      <td>1</td>\n",
       "    </tr>\n",
       "  </tbody>\n",
       "</table>\n",
       "<p>340832 rows × 11 columns</p>\n",
       "</div>"
      ],
      "text/plain": [
       "        user_id         occurred_at  event_type    event_name location  \\\n",
       "0         10522 2014-05-02 11:02:39  engagement         login    Japan   \n",
       "1         10522 2014-05-02 11:02:53  engagement     home_page    Japan   \n",
       "2         10522 2014-05-02 11:03:28  engagement  like_message    Japan   \n",
       "3         10522 2014-05-02 11:04:09  engagement    view_inbox    Japan   \n",
       "4         10522 2014-05-02 11:03:16  engagement    search_run    Japan   \n",
       "...         ...                 ...         ...           ...      ...   \n",
       "340827    18815 2014-08-31 13:41:46  engagement  like_message  Ireland   \n",
       "340828    18815 2014-08-31 13:42:11  engagement     home_page  Ireland   \n",
       "340829    18815 2014-08-31 13:42:43  engagement  send_message  Ireland   \n",
       "340830    18815 2014-08-31 13:43:07  engagement     home_page  Ireland   \n",
       "340831    18815 2014-08-31 13:43:42  engagement  like_message  Ireland   \n",
       "\n",
       "                        device  user_type device_type_1 device_type week  \\\n",
       "0       dell inspiron notebook          3      computer    computer    5   \n",
       "1       dell inspiron notebook          3      computer    computer    5   \n",
       "2       dell inspiron notebook          3      computer    computer    5   \n",
       "3       dell inspiron notebook          3      computer    computer    5   \n",
       "4       dell inspiron notebook          3      computer    computer    5   \n",
       "...                        ...        ...           ...         ...  ...   \n",
       "340827  dell inspiron notebook          2      computer    computer    0   \n",
       "340828  dell inspiron notebook          2      computer    computer    0   \n",
       "340829  dell inspiron notebook          2      computer    computer    0   \n",
       "340830  dell inspiron notebook          2      computer    computer    0   \n",
       "340831  dell inspiron notebook          2      computer    computer    0   \n",
       "\n",
       "        count  \n",
       "0           1  \n",
       "1           1  \n",
       "2           1  \n",
       "3           1  \n",
       "4           1  \n",
       "...       ...  \n",
       "340827      1  \n",
       "340828      1  \n",
       "340829      1  \n",
       "340830      1  \n",
       "340831      1  \n",
       "\n",
       "[340832 rows x 11 columns]"
      ]
     },
     "execution_count": 75,
     "metadata": {},
     "output_type": "execute_result"
    }
   ],
   "source": [
    "events['week'] = events['occurred_at'].dt.strftime('%w')\n",
    "events['count'] = 1\n",
    "# events"
   ]
  },
  {
   "cell_type": "code",
   "execution_count": 80,
   "id": "3bc27122",
   "metadata": {},
   "outputs": [
    {
     "data": {
      "text/html": [
       "<div>\n",
       "<style scoped>\n",
       "    .dataframe tbody tr th:only-of-type {\n",
       "        vertical-align: middle;\n",
       "    }\n",
       "\n",
       "    .dataframe tbody tr th {\n",
       "        vertical-align: top;\n",
       "    }\n",
       "\n",
       "    .dataframe thead th {\n",
       "        text-align: right;\n",
       "    }\n",
       "</style>\n",
       "<table border=\"1\" class=\"dataframe\">\n",
       "  <thead>\n",
       "    <tr style=\"text-align: right;\">\n",
       "      <th></th>\n",
       "      <th>week</th>\n",
       "      <th>device_type</th>\n",
       "      <th>user_id</th>\n",
       "      <th>occurred_at</th>\n",
       "      <th>event_type</th>\n",
       "      <th>event_name</th>\n",
       "      <th>location</th>\n",
       "      <th>device</th>\n",
       "      <th>user_type</th>\n",
       "      <th>device_type_1</th>\n",
       "      <th>count</th>\n",
       "    </tr>\n",
       "  </thead>\n",
       "  <tbody>\n",
       "    <tr>\n",
       "      <th>0</th>\n",
       "      <td>0</td>\n",
       "      <td>computer</td>\n",
       "      <td>9242</td>\n",
       "      <td>9242</td>\n",
       "      <td>9242</td>\n",
       "      <td>9242</td>\n",
       "      <td>9242</td>\n",
       "      <td>9242</td>\n",
       "      <td>9242</td>\n",
       "      <td>9242</td>\n",
       "      <td>9242</td>\n",
       "    </tr>\n",
       "    <tr>\n",
       "      <th>1</th>\n",
       "      <td>0</td>\n",
       "      <td>mobile</td>\n",
       "      <td>4109</td>\n",
       "      <td>4109</td>\n",
       "      <td>4109</td>\n",
       "      <td>4109</td>\n",
       "      <td>4109</td>\n",
       "      <td>4109</td>\n",
       "      <td>4109</td>\n",
       "      <td>4109</td>\n",
       "      <td>4109</td>\n",
       "    </tr>\n",
       "    <tr>\n",
       "      <th>2</th>\n",
       "      <td>0</td>\n",
       "      <td>tablet</td>\n",
       "      <td>2752</td>\n",
       "      <td>2752</td>\n",
       "      <td>2752</td>\n",
       "      <td>2752</td>\n",
       "      <td>2752</td>\n",
       "      <td>2752</td>\n",
       "      <td>2752</td>\n",
       "      <td>2752</td>\n",
       "      <td>2752</td>\n",
       "    </tr>\n",
       "    <tr>\n",
       "      <th>3</th>\n",
       "      <td>1</td>\n",
       "      <td>computer</td>\n",
       "      <td>28245</td>\n",
       "      <td>28245</td>\n",
       "      <td>28245</td>\n",
       "      <td>28245</td>\n",
       "      <td>28245</td>\n",
       "      <td>28245</td>\n",
       "      <td>28245</td>\n",
       "      <td>28245</td>\n",
       "      <td>28245</td>\n",
       "    </tr>\n",
       "    <tr>\n",
       "      <th>4</th>\n",
       "      <td>1</td>\n",
       "      <td>mobile</td>\n",
       "      <td>12541</td>\n",
       "      <td>12541</td>\n",
       "      <td>12541</td>\n",
       "      <td>12541</td>\n",
       "      <td>12541</td>\n",
       "      <td>12541</td>\n",
       "      <td>12541</td>\n",
       "      <td>12541</td>\n",
       "      <td>12541</td>\n",
       "    </tr>\n",
       "    <tr>\n",
       "      <th>5</th>\n",
       "      <td>1</td>\n",
       "      <td>tablet</td>\n",
       "      <td>7979</td>\n",
       "      <td>7979</td>\n",
       "      <td>7979</td>\n",
       "      <td>7979</td>\n",
       "      <td>7979</td>\n",
       "      <td>7979</td>\n",
       "      <td>7979</td>\n",
       "      <td>7979</td>\n",
       "      <td>7979</td>\n",
       "    </tr>\n",
       "    <tr>\n",
       "      <th>6</th>\n",
       "      <td>2</td>\n",
       "      <td>computer</td>\n",
       "      <td>32893</td>\n",
       "      <td>32893</td>\n",
       "      <td>32893</td>\n",
       "      <td>32893</td>\n",
       "      <td>32893</td>\n",
       "      <td>32893</td>\n",
       "      <td>32893</td>\n",
       "      <td>32893</td>\n",
       "      <td>32893</td>\n",
       "    </tr>\n",
       "    <tr>\n",
       "      <th>7</th>\n",
       "      <td>2</td>\n",
       "      <td>mobile</td>\n",
       "      <td>14771</td>\n",
       "      <td>14771</td>\n",
       "      <td>14771</td>\n",
       "      <td>14771</td>\n",
       "      <td>14771</td>\n",
       "      <td>14771</td>\n",
       "      <td>14771</td>\n",
       "      <td>14771</td>\n",
       "      <td>14771</td>\n",
       "    </tr>\n",
       "    <tr>\n",
       "      <th>8</th>\n",
       "      <td>2</td>\n",
       "      <td>tablet</td>\n",
       "      <td>9685</td>\n",
       "      <td>9685</td>\n",
       "      <td>9685</td>\n",
       "      <td>9685</td>\n",
       "      <td>9685</td>\n",
       "      <td>9685</td>\n",
       "      <td>9685</td>\n",
       "      <td>9685</td>\n",
       "      <td>9685</td>\n",
       "    </tr>\n",
       "    <tr>\n",
       "      <th>9</th>\n",
       "      <td>3</td>\n",
       "      <td>computer</td>\n",
       "      <td>34163</td>\n",
       "      <td>34163</td>\n",
       "      <td>34163</td>\n",
       "      <td>34163</td>\n",
       "      <td>34163</td>\n",
       "      <td>34163</td>\n",
       "      <td>34163</td>\n",
       "      <td>34163</td>\n",
       "      <td>34163</td>\n",
       "    </tr>\n",
       "    <tr>\n",
       "      <th>10</th>\n",
       "      <td>3</td>\n",
       "      <td>mobile</td>\n",
       "      <td>14991</td>\n",
       "      <td>14991</td>\n",
       "      <td>14991</td>\n",
       "      <td>14991</td>\n",
       "      <td>14991</td>\n",
       "      <td>14991</td>\n",
       "      <td>14991</td>\n",
       "      <td>14991</td>\n",
       "      <td>14991</td>\n",
       "    </tr>\n",
       "    <tr>\n",
       "      <th>11</th>\n",
       "      <td>3</td>\n",
       "      <td>tablet</td>\n",
       "      <td>9294</td>\n",
       "      <td>9294</td>\n",
       "      <td>9294</td>\n",
       "      <td>9294</td>\n",
       "      <td>9294</td>\n",
       "      <td>9294</td>\n",
       "      <td>9294</td>\n",
       "      <td>9294</td>\n",
       "      <td>9294</td>\n",
       "    </tr>\n",
       "    <tr>\n",
       "      <th>12</th>\n",
       "      <td>4</td>\n",
       "      <td>computer</td>\n",
       "      <td>36671</td>\n",
       "      <td>36671</td>\n",
       "      <td>36671</td>\n",
       "      <td>36671</td>\n",
       "      <td>36671</td>\n",
       "      <td>36671</td>\n",
       "      <td>36671</td>\n",
       "      <td>36671</td>\n",
       "      <td>36671</td>\n",
       "    </tr>\n",
       "    <tr>\n",
       "      <th>13</th>\n",
       "      <td>4</td>\n",
       "      <td>mobile</td>\n",
       "      <td>16547</td>\n",
       "      <td>16547</td>\n",
       "      <td>16547</td>\n",
       "      <td>16547</td>\n",
       "      <td>16547</td>\n",
       "      <td>16547</td>\n",
       "      <td>16547</td>\n",
       "      <td>16547</td>\n",
       "      <td>16547</td>\n",
       "    </tr>\n",
       "    <tr>\n",
       "      <th>14</th>\n",
       "      <td>4</td>\n",
       "      <td>tablet</td>\n",
       "      <td>9560</td>\n",
       "      <td>9560</td>\n",
       "      <td>9560</td>\n",
       "      <td>9560</td>\n",
       "      <td>9560</td>\n",
       "      <td>9560</td>\n",
       "      <td>9560</td>\n",
       "      <td>9560</td>\n",
       "      <td>9560</td>\n",
       "    </tr>\n",
       "    <tr>\n",
       "      <th>15</th>\n",
       "      <td>5</td>\n",
       "      <td>computer</td>\n",
       "      <td>39839</td>\n",
       "      <td>39839</td>\n",
       "      <td>39839</td>\n",
       "      <td>39839</td>\n",
       "      <td>39839</td>\n",
       "      <td>39839</td>\n",
       "      <td>39839</td>\n",
       "      <td>39839</td>\n",
       "      <td>39839</td>\n",
       "    </tr>\n",
       "    <tr>\n",
       "      <th>16</th>\n",
       "      <td>5</td>\n",
       "      <td>mobile</td>\n",
       "      <td>18936</td>\n",
       "      <td>18936</td>\n",
       "      <td>18936</td>\n",
       "      <td>18936</td>\n",
       "      <td>18936</td>\n",
       "      <td>18936</td>\n",
       "      <td>18936</td>\n",
       "      <td>18936</td>\n",
       "      <td>18936</td>\n",
       "    </tr>\n",
       "    <tr>\n",
       "      <th>17</th>\n",
       "      <td>5</td>\n",
       "      <td>tablet</td>\n",
       "      <td>11392</td>\n",
       "      <td>11392</td>\n",
       "      <td>11392</td>\n",
       "      <td>11392</td>\n",
       "      <td>11392</td>\n",
       "      <td>11392</td>\n",
       "      <td>11392</td>\n",
       "      <td>11392</td>\n",
       "      <td>11392</td>\n",
       "    </tr>\n",
       "    <tr>\n",
       "      <th>18</th>\n",
       "      <td>6</td>\n",
       "      <td>computer</td>\n",
       "      <td>15413</td>\n",
       "      <td>15413</td>\n",
       "      <td>15413</td>\n",
       "      <td>15413</td>\n",
       "      <td>15413</td>\n",
       "      <td>15413</td>\n",
       "      <td>15413</td>\n",
       "      <td>15413</td>\n",
       "      <td>15413</td>\n",
       "    </tr>\n",
       "    <tr>\n",
       "      <th>19</th>\n",
       "      <td>6</td>\n",
       "      <td>mobile</td>\n",
       "      <td>7119</td>\n",
       "      <td>7119</td>\n",
       "      <td>7119</td>\n",
       "      <td>7119</td>\n",
       "      <td>7119</td>\n",
       "      <td>7119</td>\n",
       "      <td>7119</td>\n",
       "      <td>7119</td>\n",
       "      <td>7119</td>\n",
       "    </tr>\n",
       "    <tr>\n",
       "      <th>20</th>\n",
       "      <td>6</td>\n",
       "      <td>tablet</td>\n",
       "      <td>4690</td>\n",
       "      <td>4690</td>\n",
       "      <td>4690</td>\n",
       "      <td>4690</td>\n",
       "      <td>4690</td>\n",
       "      <td>4690</td>\n",
       "      <td>4690</td>\n",
       "      <td>4690</td>\n",
       "      <td>4690</td>\n",
       "    </tr>\n",
       "  </tbody>\n",
       "</table>\n",
       "</div>"
      ],
      "text/plain": [
       "   week device_type  user_id  occurred_at  event_type  event_name  location  \\\n",
       "0     0    computer     9242         9242        9242        9242      9242   \n",
       "1     0      mobile     4109         4109        4109        4109      4109   \n",
       "2     0      tablet     2752         2752        2752        2752      2752   \n",
       "3     1    computer    28245        28245       28245       28245     28245   \n",
       "4     1      mobile    12541        12541       12541       12541     12541   \n",
       "5     1      tablet     7979         7979        7979        7979      7979   \n",
       "6     2    computer    32893        32893       32893       32893     32893   \n",
       "7     2      mobile    14771        14771       14771       14771     14771   \n",
       "8     2      tablet     9685         9685        9685        9685      9685   \n",
       "9     3    computer    34163        34163       34163       34163     34163   \n",
       "10    3      mobile    14991        14991       14991       14991     14991   \n",
       "11    3      tablet     9294         9294        9294        9294      9294   \n",
       "12    4    computer    36671        36671       36671       36671     36671   \n",
       "13    4      mobile    16547        16547       16547       16547     16547   \n",
       "14    4      tablet     9560         9560        9560        9560      9560   \n",
       "15    5    computer    39839        39839       39839       39839     39839   \n",
       "16    5      mobile    18936        18936       18936       18936     18936   \n",
       "17    5      tablet    11392        11392       11392       11392     11392   \n",
       "18    6    computer    15413        15413       15413       15413     15413   \n",
       "19    6      mobile     7119         7119        7119        7119      7119   \n",
       "20    6      tablet     4690         4690        4690        4690      4690   \n",
       "\n",
       "    device  user_type  device_type_1  count  \n",
       "0     9242       9242           9242   9242  \n",
       "1     4109       4109           4109   4109  \n",
       "2     2752       2752           2752   2752  \n",
       "3    28245      28245          28245  28245  \n",
       "4    12541      12541          12541  12541  \n",
       "5     7979       7979           7979   7979  \n",
       "6    32893      32893          32893  32893  \n",
       "7    14771      14771          14771  14771  \n",
       "8     9685       9685           9685   9685  \n",
       "9    34163      34163          34163  34163  \n",
       "10   14991      14991          14991  14991  \n",
       "11    9294       9294           9294   9294  \n",
       "12   36671      36671          36671  36671  \n",
       "13   16547      16547          16547  16547  \n",
       "14    9560       9560           9560   9560  \n",
       "15   39839      39839          39839  39839  \n",
       "16   18936      18936          18936  18936  \n",
       "17   11392      11392          11392  11392  \n",
       "18   15413      15413          15413  15413  \n",
       "19    7119       7119           7119   7119  \n",
       "20    4690       4690           4690   4690  "
      ]
     },
     "execution_count": 80,
     "metadata": {},
     "output_type": "execute_result"
    }
   ],
   "source": [
    "grouped_events = events.groupby(['week','device_type']).count().reset_index()\n",
    "grouped_events"
   ]
  },
  {
   "cell_type": "code",
   "execution_count": 57,
   "id": "5d71ad51",
   "metadata": {},
   "outputs": [],
   "source": [
    "grouped_events_df = grouped_events[['week','device_type','count']]"
   ]
  },
  {
   "cell_type": "code",
   "execution_count": 58,
   "id": "97aec327",
   "metadata": {},
   "outputs": [
    {
     "data": {
      "application/vnd.plotly.v1+json": {
       "config": {
        "plotlyServerURL": "https://plot.ly"
       },
       "data": [
        {
         "hovertemplate": "device_type=computer<br>week=%{x}<br>count=%{y}<extra></extra>",
         "legendgroup": "computer",
         "line": {
          "color": "#636efa",
          "dash": "solid"
         },
         "marker": {
          "symbol": "circle"
         },
         "mode": "lines",
         "name": "computer",
         "orientation": "v",
         "showlegend": true,
         "type": "scatter",
         "x": [
          "17",
          "18",
          "19",
          "20",
          "21",
          "22",
          "23",
          "24",
          "25",
          "26",
          "27",
          "28",
          "29",
          "30",
          "31",
          "32",
          "33",
          "34"
         ],
         "xaxis": "x",
         "y": [
          4831,
          10635,
          10072,
          10655,
          10207,
          11083,
          10731,
          11199,
          11119,
          11072,
          11755,
          12640,
          12068,
          12978,
          11899,
          11278,
          11275,
          10969
         ],
         "yaxis": "y"
        },
        {
         "hovertemplate": "device_type=mobile<br>week=%{x}<br>count=%{y}<extra></extra>",
         "legendgroup": "mobile",
         "line": {
          "color": "#EF553B",
          "dash": "solid"
         },
         "marker": {
          "symbol": "circle"
         },
         "mode": "lines",
         "name": "mobile",
         "orientation": "v",
         "showlegend": true,
         "type": "scatter",
         "x": [
          "17",
          "18",
          "19",
          "20",
          "21",
          "22",
          "23",
          "24",
          "25",
          "26",
          "27",
          "28",
          "29",
          "30",
          "31",
          "32",
          "33",
          "34"
         ],
         "xaxis": "x",
         "y": [
          2673,
          4750,
          4744,
          4950,
          4859,
          4968,
          5273,
          5274,
          5456,
          5516,
          5835,
          5896,
          5875,
          6001,
          4788,
          4236,
          3930,
          3990
         ],
         "yaxis": "y"
        },
        {
         "hovertemplate": "device_type=tablet<br>week=%{x}<br>count=%{y}<extra></extra>",
         "legendgroup": "tablet",
         "line": {
          "color": "#00cc96",
          "dash": "solid"
         },
         "marker": {
          "symbol": "circle"
         },
         "mode": "lines",
         "name": "tablet",
         "orientation": "v",
         "showlegend": true,
         "type": "scatter",
         "x": [
          "17",
          "18",
          "19",
          "20",
          "21",
          "22",
          "23",
          "24",
          "25",
          "26",
          "27",
          "28",
          "29",
          "30",
          "31",
          "32",
          "33",
          "34"
         ],
         "xaxis": "x",
         "y": [
          1645,
          3031,
          3191,
          3240,
          3105,
          3600,
          3302,
          3639,
          3365,
          3428,
          3522,
          3317,
          3381,
          3721,
          2671,
          2368,
          2243,
          2583
         ],
         "yaxis": "y"
        }
       ],
       "layout": {
        "legend": {
         "title": {
          "text": "device_type"
         },
         "tracegroupgap": 0
        },
        "margin": {
         "t": 60
        },
        "template": {
         "data": {
          "bar": [
           {
            "error_x": {
             "color": "#2a3f5f"
            },
            "error_y": {
             "color": "#2a3f5f"
            },
            "marker": {
             "line": {
              "color": "#E5ECF6",
              "width": 0.5
             },
             "pattern": {
              "fillmode": "overlay",
              "size": 10,
              "solidity": 0.2
             }
            },
            "type": "bar"
           }
          ],
          "barpolar": [
           {
            "marker": {
             "line": {
              "color": "#E5ECF6",
              "width": 0.5
             },
             "pattern": {
              "fillmode": "overlay",
              "size": 10,
              "solidity": 0.2
             }
            },
            "type": "barpolar"
           }
          ],
          "carpet": [
           {
            "aaxis": {
             "endlinecolor": "#2a3f5f",
             "gridcolor": "white",
             "linecolor": "white",
             "minorgridcolor": "white",
             "startlinecolor": "#2a3f5f"
            },
            "baxis": {
             "endlinecolor": "#2a3f5f",
             "gridcolor": "white",
             "linecolor": "white",
             "minorgridcolor": "white",
             "startlinecolor": "#2a3f5f"
            },
            "type": "carpet"
           }
          ],
          "choropleth": [
           {
            "colorbar": {
             "outlinewidth": 0,
             "ticks": ""
            },
            "type": "choropleth"
           }
          ],
          "contour": [
           {
            "colorbar": {
             "outlinewidth": 0,
             "ticks": ""
            },
            "colorscale": [
             [
              0,
              "#0d0887"
             ],
             [
              0.1111111111111111,
              "#46039f"
             ],
             [
              0.2222222222222222,
              "#7201a8"
             ],
             [
              0.3333333333333333,
              "#9c179e"
             ],
             [
              0.4444444444444444,
              "#bd3786"
             ],
             [
              0.5555555555555556,
              "#d8576b"
             ],
             [
              0.6666666666666666,
              "#ed7953"
             ],
             [
              0.7777777777777778,
              "#fb9f3a"
             ],
             [
              0.8888888888888888,
              "#fdca26"
             ],
             [
              1,
              "#f0f921"
             ]
            ],
            "type": "contour"
           }
          ],
          "contourcarpet": [
           {
            "colorbar": {
             "outlinewidth": 0,
             "ticks": ""
            },
            "type": "contourcarpet"
           }
          ],
          "heatmap": [
           {
            "colorbar": {
             "outlinewidth": 0,
             "ticks": ""
            },
            "colorscale": [
             [
              0,
              "#0d0887"
             ],
             [
              0.1111111111111111,
              "#46039f"
             ],
             [
              0.2222222222222222,
              "#7201a8"
             ],
             [
              0.3333333333333333,
              "#9c179e"
             ],
             [
              0.4444444444444444,
              "#bd3786"
             ],
             [
              0.5555555555555556,
              "#d8576b"
             ],
             [
              0.6666666666666666,
              "#ed7953"
             ],
             [
              0.7777777777777778,
              "#fb9f3a"
             ],
             [
              0.8888888888888888,
              "#fdca26"
             ],
             [
              1,
              "#f0f921"
             ]
            ],
            "type": "heatmap"
           }
          ],
          "heatmapgl": [
           {
            "colorbar": {
             "outlinewidth": 0,
             "ticks": ""
            },
            "colorscale": [
             [
              0,
              "#0d0887"
             ],
             [
              0.1111111111111111,
              "#46039f"
             ],
             [
              0.2222222222222222,
              "#7201a8"
             ],
             [
              0.3333333333333333,
              "#9c179e"
             ],
             [
              0.4444444444444444,
              "#bd3786"
             ],
             [
              0.5555555555555556,
              "#d8576b"
             ],
             [
              0.6666666666666666,
              "#ed7953"
             ],
             [
              0.7777777777777778,
              "#fb9f3a"
             ],
             [
              0.8888888888888888,
              "#fdca26"
             ],
             [
              1,
              "#f0f921"
             ]
            ],
            "type": "heatmapgl"
           }
          ],
          "histogram": [
           {
            "marker": {
             "pattern": {
              "fillmode": "overlay",
              "size": 10,
              "solidity": 0.2
             }
            },
            "type": "histogram"
           }
          ],
          "histogram2d": [
           {
            "colorbar": {
             "outlinewidth": 0,
             "ticks": ""
            },
            "colorscale": [
             [
              0,
              "#0d0887"
             ],
             [
              0.1111111111111111,
              "#46039f"
             ],
             [
              0.2222222222222222,
              "#7201a8"
             ],
             [
              0.3333333333333333,
              "#9c179e"
             ],
             [
              0.4444444444444444,
              "#bd3786"
             ],
             [
              0.5555555555555556,
              "#d8576b"
             ],
             [
              0.6666666666666666,
              "#ed7953"
             ],
             [
              0.7777777777777778,
              "#fb9f3a"
             ],
             [
              0.8888888888888888,
              "#fdca26"
             ],
             [
              1,
              "#f0f921"
             ]
            ],
            "type": "histogram2d"
           }
          ],
          "histogram2dcontour": [
           {
            "colorbar": {
             "outlinewidth": 0,
             "ticks": ""
            },
            "colorscale": [
             [
              0,
              "#0d0887"
             ],
             [
              0.1111111111111111,
              "#46039f"
             ],
             [
              0.2222222222222222,
              "#7201a8"
             ],
             [
              0.3333333333333333,
              "#9c179e"
             ],
             [
              0.4444444444444444,
              "#bd3786"
             ],
             [
              0.5555555555555556,
              "#d8576b"
             ],
             [
              0.6666666666666666,
              "#ed7953"
             ],
             [
              0.7777777777777778,
              "#fb9f3a"
             ],
             [
              0.8888888888888888,
              "#fdca26"
             ],
             [
              1,
              "#f0f921"
             ]
            ],
            "type": "histogram2dcontour"
           }
          ],
          "mesh3d": [
           {
            "colorbar": {
             "outlinewidth": 0,
             "ticks": ""
            },
            "type": "mesh3d"
           }
          ],
          "parcoords": [
           {
            "line": {
             "colorbar": {
              "outlinewidth": 0,
              "ticks": ""
             }
            },
            "type": "parcoords"
           }
          ],
          "pie": [
           {
            "automargin": true,
            "type": "pie"
           }
          ],
          "scatter": [
           {
            "fillpattern": {
             "fillmode": "overlay",
             "size": 10,
             "solidity": 0.2
            },
            "type": "scatter"
           }
          ],
          "scatter3d": [
           {
            "line": {
             "colorbar": {
              "outlinewidth": 0,
              "ticks": ""
             }
            },
            "marker": {
             "colorbar": {
              "outlinewidth": 0,
              "ticks": ""
             }
            },
            "type": "scatter3d"
           }
          ],
          "scattercarpet": [
           {
            "marker": {
             "colorbar": {
              "outlinewidth": 0,
              "ticks": ""
             }
            },
            "type": "scattercarpet"
           }
          ],
          "scattergeo": [
           {
            "marker": {
             "colorbar": {
              "outlinewidth": 0,
              "ticks": ""
             }
            },
            "type": "scattergeo"
           }
          ],
          "scattergl": [
           {
            "marker": {
             "colorbar": {
              "outlinewidth": 0,
              "ticks": ""
             }
            },
            "type": "scattergl"
           }
          ],
          "scattermapbox": [
           {
            "marker": {
             "colorbar": {
              "outlinewidth": 0,
              "ticks": ""
             }
            },
            "type": "scattermapbox"
           }
          ],
          "scatterpolar": [
           {
            "marker": {
             "colorbar": {
              "outlinewidth": 0,
              "ticks": ""
             }
            },
            "type": "scatterpolar"
           }
          ],
          "scatterpolargl": [
           {
            "marker": {
             "colorbar": {
              "outlinewidth": 0,
              "ticks": ""
             }
            },
            "type": "scatterpolargl"
           }
          ],
          "scatterternary": [
           {
            "marker": {
             "colorbar": {
              "outlinewidth": 0,
              "ticks": ""
             }
            },
            "type": "scatterternary"
           }
          ],
          "surface": [
           {
            "colorbar": {
             "outlinewidth": 0,
             "ticks": ""
            },
            "colorscale": [
             [
              0,
              "#0d0887"
             ],
             [
              0.1111111111111111,
              "#46039f"
             ],
             [
              0.2222222222222222,
              "#7201a8"
             ],
             [
              0.3333333333333333,
              "#9c179e"
             ],
             [
              0.4444444444444444,
              "#bd3786"
             ],
             [
              0.5555555555555556,
              "#d8576b"
             ],
             [
              0.6666666666666666,
              "#ed7953"
             ],
             [
              0.7777777777777778,
              "#fb9f3a"
             ],
             [
              0.8888888888888888,
              "#fdca26"
             ],
             [
              1,
              "#f0f921"
             ]
            ],
            "type": "surface"
           }
          ],
          "table": [
           {
            "cells": {
             "fill": {
              "color": "#EBF0F8"
             },
             "line": {
              "color": "white"
             }
            },
            "header": {
             "fill": {
              "color": "#C8D4E3"
             },
             "line": {
              "color": "white"
             }
            },
            "type": "table"
           }
          ]
         },
         "layout": {
          "annotationdefaults": {
           "arrowcolor": "#2a3f5f",
           "arrowhead": 0,
           "arrowwidth": 1
          },
          "autotypenumbers": "strict",
          "coloraxis": {
           "colorbar": {
            "outlinewidth": 0,
            "ticks": ""
           }
          },
          "colorscale": {
           "diverging": [
            [
             0,
             "#8e0152"
            ],
            [
             0.1,
             "#c51b7d"
            ],
            [
             0.2,
             "#de77ae"
            ],
            [
             0.3,
             "#f1b6da"
            ],
            [
             0.4,
             "#fde0ef"
            ],
            [
             0.5,
             "#f7f7f7"
            ],
            [
             0.6,
             "#e6f5d0"
            ],
            [
             0.7,
             "#b8e186"
            ],
            [
             0.8,
             "#7fbc41"
            ],
            [
             0.9,
             "#4d9221"
            ],
            [
             1,
             "#276419"
            ]
           ],
           "sequential": [
            [
             0,
             "#0d0887"
            ],
            [
             0.1111111111111111,
             "#46039f"
            ],
            [
             0.2222222222222222,
             "#7201a8"
            ],
            [
             0.3333333333333333,
             "#9c179e"
            ],
            [
             0.4444444444444444,
             "#bd3786"
            ],
            [
             0.5555555555555556,
             "#d8576b"
            ],
            [
             0.6666666666666666,
             "#ed7953"
            ],
            [
             0.7777777777777778,
             "#fb9f3a"
            ],
            [
             0.8888888888888888,
             "#fdca26"
            ],
            [
             1,
             "#f0f921"
            ]
           ],
           "sequentialminus": [
            [
             0,
             "#0d0887"
            ],
            [
             0.1111111111111111,
             "#46039f"
            ],
            [
             0.2222222222222222,
             "#7201a8"
            ],
            [
             0.3333333333333333,
             "#9c179e"
            ],
            [
             0.4444444444444444,
             "#bd3786"
            ],
            [
             0.5555555555555556,
             "#d8576b"
            ],
            [
             0.6666666666666666,
             "#ed7953"
            ],
            [
             0.7777777777777778,
             "#fb9f3a"
            ],
            [
             0.8888888888888888,
             "#fdca26"
            ],
            [
             1,
             "#f0f921"
            ]
           ]
          },
          "colorway": [
           "#636efa",
           "#EF553B",
           "#00cc96",
           "#ab63fa",
           "#FFA15A",
           "#19d3f3",
           "#FF6692",
           "#B6E880",
           "#FF97FF",
           "#FECB52"
          ],
          "font": {
           "color": "#2a3f5f"
          },
          "geo": {
           "bgcolor": "white",
           "lakecolor": "white",
           "landcolor": "#E5ECF6",
           "showlakes": true,
           "showland": true,
           "subunitcolor": "white"
          },
          "hoverlabel": {
           "align": "left"
          },
          "hovermode": "closest",
          "mapbox": {
           "style": "light"
          },
          "paper_bgcolor": "white",
          "plot_bgcolor": "#E5ECF6",
          "polar": {
           "angularaxis": {
            "gridcolor": "white",
            "linecolor": "white",
            "ticks": ""
           },
           "bgcolor": "#E5ECF6",
           "radialaxis": {
            "gridcolor": "white",
            "linecolor": "white",
            "ticks": ""
           }
          },
          "scene": {
           "xaxis": {
            "backgroundcolor": "#E5ECF6",
            "gridcolor": "white",
            "gridwidth": 2,
            "linecolor": "white",
            "showbackground": true,
            "ticks": "",
            "zerolinecolor": "white"
           },
           "yaxis": {
            "backgroundcolor": "#E5ECF6",
            "gridcolor": "white",
            "gridwidth": 2,
            "linecolor": "white",
            "showbackground": true,
            "ticks": "",
            "zerolinecolor": "white"
           },
           "zaxis": {
            "backgroundcolor": "#E5ECF6",
            "gridcolor": "white",
            "gridwidth": 2,
            "linecolor": "white",
            "showbackground": true,
            "ticks": "",
            "zerolinecolor": "white"
           }
          },
          "shapedefaults": {
           "line": {
            "color": "#2a3f5f"
           }
          },
          "ternary": {
           "aaxis": {
            "gridcolor": "white",
            "linecolor": "white",
            "ticks": ""
           },
           "baxis": {
            "gridcolor": "white",
            "linecolor": "white",
            "ticks": ""
           },
           "bgcolor": "#E5ECF6",
           "caxis": {
            "gridcolor": "white",
            "linecolor": "white",
            "ticks": ""
           }
          },
          "title": {
           "x": 0.05
          },
          "xaxis": {
           "automargin": true,
           "gridcolor": "white",
           "linecolor": "white",
           "ticks": "",
           "title": {
            "standoff": 15
           },
           "zerolinecolor": "white",
           "zerolinewidth": 2
          },
          "yaxis": {
           "automargin": true,
           "gridcolor": "white",
           "linecolor": "white",
           "ticks": "",
           "title": {
            "standoff": 15
           },
           "zerolinecolor": "white",
           "zerolinewidth": 2
          }
         }
        },
        "xaxis": {
         "anchor": "y",
         "domain": [
          0,
          1
         ],
         "title": {
          "text": "week"
         }
        },
        "yaxis": {
         "anchor": "x",
         "domain": [
          0,
          1
         ],
         "title": {
          "text": "count"
         }
        }
       }
      }
     },
     "metadata": {},
     "output_type": "display_data"
    }
   ],
   "source": [
    "import plotly.express as px\n",
    "\n",
    "fig = px.line(grouped_events_df, x='week', y='count', color='device_type')\n",
    "fig.show()"
   ]
  },
  {
   "cell_type": "code",
   "execution_count": 59,
   "id": "123a5b2c",
   "metadata": {},
   "outputs": [
    {
     "data": {
      "text/html": [
       "<div>\n",
       "<style scoped>\n",
       "    .dataframe tbody tr th:only-of-type {\n",
       "        vertical-align: middle;\n",
       "    }\n",
       "\n",
       "    .dataframe tbody tr th {\n",
       "        vertical-align: top;\n",
       "    }\n",
       "\n",
       "    .dataframe thead th {\n",
       "        text-align: right;\n",
       "    }\n",
       "</style>\n",
       "<table border=\"1\" class=\"dataframe\">\n",
       "  <thead>\n",
       "    <tr style=\"text-align: right;\">\n",
       "      <th></th>\n",
       "      <th>week</th>\n",
       "      <th>device_type</th>\n",
       "      <th>count</th>\n",
       "    </tr>\n",
       "  </thead>\n",
       "  <tbody>\n",
       "    <tr>\n",
       "      <th>0</th>\n",
       "      <td>17</td>\n",
       "      <td>computer</td>\n",
       "      <td>4831</td>\n",
       "    </tr>\n",
       "    <tr>\n",
       "      <th>1</th>\n",
       "      <td>17</td>\n",
       "      <td>mobile</td>\n",
       "      <td>2673</td>\n",
       "    </tr>\n",
       "    <tr>\n",
       "      <th>2</th>\n",
       "      <td>17</td>\n",
       "      <td>tablet</td>\n",
       "      <td>1645</td>\n",
       "    </tr>\n",
       "    <tr>\n",
       "      <th>3</th>\n",
       "      <td>18</td>\n",
       "      <td>computer</td>\n",
       "      <td>10635</td>\n",
       "    </tr>\n",
       "    <tr>\n",
       "      <th>4</th>\n",
       "      <td>18</td>\n",
       "      <td>mobile</td>\n",
       "      <td>4750</td>\n",
       "    </tr>\n",
       "  </tbody>\n",
       "</table>\n",
       "</div>"
      ],
      "text/plain": [
       "  week device_type  count\n",
       "0   17    computer   4831\n",
       "1   17      mobile   2673\n",
       "2   17      tablet   1645\n",
       "3   18    computer  10635\n",
       "4   18      mobile   4750"
      ]
     },
     "execution_count": 59,
     "metadata": {},
     "output_type": "execute_result"
    }
   ],
   "source": [
    "grouped_events_df.head()"
   ]
  },
  {
   "cell_type": "code",
   "execution_count": 60,
   "id": "ca4dc09c",
   "metadata": {},
   "outputs": [],
   "source": [
    "device_table = pd.pivot_table(grouped_events_df, values='count', index=['week'], columns=['device_type'])"
   ]
  },
  {
   "cell_type": "code",
   "execution_count": 61,
   "id": "22083dae",
   "metadata": {},
   "outputs": [
    {
     "data": {
      "text/html": [
       "<div>\n",
       "<style scoped>\n",
       "    .dataframe tbody tr th:only-of-type {\n",
       "        vertical-align: middle;\n",
       "    }\n",
       "\n",
       "    .dataframe tbody tr th {\n",
       "        vertical-align: top;\n",
       "    }\n",
       "\n",
       "    .dataframe thead th {\n",
       "        text-align: right;\n",
       "    }\n",
       "</style>\n",
       "<table border=\"1\" class=\"dataframe\">\n",
       "  <thead>\n",
       "    <tr style=\"text-align: right;\">\n",
       "      <th>device_type</th>\n",
       "      <th>computer</th>\n",
       "      <th>mobile</th>\n",
       "      <th>tablet</th>\n",
       "    </tr>\n",
       "    <tr>\n",
       "      <th>week</th>\n",
       "      <th></th>\n",
       "      <th></th>\n",
       "      <th></th>\n",
       "    </tr>\n",
       "  </thead>\n",
       "  <tbody>\n",
       "    <tr>\n",
       "      <th>17</th>\n",
       "      <td>4831</td>\n",
       "      <td>2673</td>\n",
       "      <td>1645</td>\n",
       "    </tr>\n",
       "    <tr>\n",
       "      <th>18</th>\n",
       "      <td>10635</td>\n",
       "      <td>4750</td>\n",
       "      <td>3031</td>\n",
       "    </tr>\n",
       "    <tr>\n",
       "      <th>19</th>\n",
       "      <td>10072</td>\n",
       "      <td>4744</td>\n",
       "      <td>3191</td>\n",
       "    </tr>\n",
       "    <tr>\n",
       "      <th>20</th>\n",
       "      <td>10655</td>\n",
       "      <td>4950</td>\n",
       "      <td>3240</td>\n",
       "    </tr>\n",
       "    <tr>\n",
       "      <th>21</th>\n",
       "      <td>10207</td>\n",
       "      <td>4859</td>\n",
       "      <td>3105</td>\n",
       "    </tr>\n",
       "    <tr>\n",
       "      <th>22</th>\n",
       "      <td>11083</td>\n",
       "      <td>4968</td>\n",
       "      <td>3600</td>\n",
       "    </tr>\n",
       "    <tr>\n",
       "      <th>23</th>\n",
       "      <td>10731</td>\n",
       "      <td>5273</td>\n",
       "      <td>3302</td>\n",
       "    </tr>\n",
       "    <tr>\n",
       "      <th>24</th>\n",
       "      <td>11199</td>\n",
       "      <td>5274</td>\n",
       "      <td>3639</td>\n",
       "    </tr>\n",
       "    <tr>\n",
       "      <th>25</th>\n",
       "      <td>11119</td>\n",
       "      <td>5456</td>\n",
       "      <td>3365</td>\n",
       "    </tr>\n",
       "    <tr>\n",
       "      <th>26</th>\n",
       "      <td>11072</td>\n",
       "      <td>5516</td>\n",
       "      <td>3428</td>\n",
       "    </tr>\n",
       "    <tr>\n",
       "      <th>27</th>\n",
       "      <td>11755</td>\n",
       "      <td>5835</td>\n",
       "      <td>3522</td>\n",
       "    </tr>\n",
       "    <tr>\n",
       "      <th>28</th>\n",
       "      <td>12640</td>\n",
       "      <td>5896</td>\n",
       "      <td>3317</td>\n",
       "    </tr>\n",
       "    <tr>\n",
       "      <th>29</th>\n",
       "      <td>12068</td>\n",
       "      <td>5875</td>\n",
       "      <td>3381</td>\n",
       "    </tr>\n",
       "    <tr>\n",
       "      <th>30</th>\n",
       "      <td>12978</td>\n",
       "      <td>6001</td>\n",
       "      <td>3721</td>\n",
       "    </tr>\n",
       "    <tr>\n",
       "      <th>31</th>\n",
       "      <td>11899</td>\n",
       "      <td>4788</td>\n",
       "      <td>2671</td>\n",
       "    </tr>\n",
       "    <tr>\n",
       "      <th>32</th>\n",
       "      <td>11278</td>\n",
       "      <td>4236</td>\n",
       "      <td>2368</td>\n",
       "    </tr>\n",
       "    <tr>\n",
       "      <th>33</th>\n",
       "      <td>11275</td>\n",
       "      <td>3930</td>\n",
       "      <td>2243</td>\n",
       "    </tr>\n",
       "    <tr>\n",
       "      <th>34</th>\n",
       "      <td>10969</td>\n",
       "      <td>3990</td>\n",
       "      <td>2583</td>\n",
       "    </tr>\n",
       "  </tbody>\n",
       "</table>\n",
       "</div>"
      ],
      "text/plain": [
       "device_type  computer  mobile  tablet\n",
       "week                                 \n",
       "17               4831    2673    1645\n",
       "18              10635    4750    3031\n",
       "19              10072    4744    3191\n",
       "20              10655    4950    3240\n",
       "21              10207    4859    3105\n",
       "22              11083    4968    3600\n",
       "23              10731    5273    3302\n",
       "24              11199    5274    3639\n",
       "25              11119    5456    3365\n",
       "26              11072    5516    3428\n",
       "27              11755    5835    3522\n",
       "28              12640    5896    3317\n",
       "29              12068    5875    3381\n",
       "30              12978    6001    3721\n",
       "31              11899    4788    2671\n",
       "32              11278    4236    2368\n",
       "33              11275    3930    2243\n",
       "34              10969    3990    2583"
      ]
     },
     "execution_count": 61,
     "metadata": {},
     "output_type": "execute_result"
    }
   ],
   "source": [
    "device_table"
   ]
  },
  {
   "cell_type": "code",
   "execution_count": null,
   "id": "d827c71f",
   "metadata": {},
   "outputs": [],
   "source": []
  }
 ],
 "metadata": {
  "kernelspec": {
   "display_name": "Python 3 (ipykernel)",
   "language": "python",
   "name": "python3"
  },
  "language_info": {
   "codemirror_mode": {
    "name": "ipython",
    "version": 3
   },
   "file_extension": ".py",
   "mimetype": "text/x-python",
   "name": "python",
   "nbconvert_exporter": "python",
   "pygments_lexer": "ipython3",
   "version": "3.11.5"
  }
 },
 "nbformat": 4,
 "nbformat_minor": 5
}
